{
 "cells": [
  {
   "cell_type": "code",
   "execution_count": 4,
   "metadata": {
    "collapsed": true
   },
   "outputs": [],
   "source": [
    "###### Import some libraries\n",
    "import tensorflow as tf\n",
    "import numpy as np\n",
    "\n",
    "#Imports for visualizations\n",
    "import PIL.Image\n",
    "from io import BytesIO\n",
    "from IPython.display import Image,display"
   ]
  },
  {
   "cell_type": "markdown",
   "metadata": {},
   "source": [
    "Define a function to actually display the image"
   ]
  },
  {
   "cell_type": "code",
   "execution_count": 5,
   "metadata": {
    "collapsed": true
   },
   "outputs": [],
   "source": [
    "def DisplayFractal(a, fmt='jpeg'):\n",
    "  \"\"\"Display an array of iteration counts as a\n",
    "     colorful picture of a fractal.\"\"\"\n",
    "  a_cyclic = (6.28*a/20.0).reshape(list(a.shape)+[1])\n",
    "  img = np.concatenate([10+20*np.cos(a_cyclic),\n",
    "                        30+50*np.sin(a_cyclic),\n",
    "                        155-80*np.cos(a_cyclic)], 2)\n",
    "  img[a==a.max()] = 0\n",
    "  a = img\n",
    "  a = np.uint8(np.clip(a, 0, 255))\n",
    "  f = BytesIO()\n",
    "  PIL.Image.fromarray(a).save(f, fmt)\n",
    "  display(Image(data=f.getvalue()))"
   ]
  },
  {
   "cell_type": "markdown",
   "metadata": {},
   "source": [
    "Use an interactive session to play"
   ]
  },
  {
   "cell_type": "code",
   "execution_count": 6,
   "metadata": {
    "collapsed": true
   },
   "outputs": [],
   "source": [
    "sess = tf.InteractiveSession()"
   ]
  },
  {
   "cell_type": "code",
   "execution_count": 7,
   "metadata": {},
   "outputs": [
    {
     "name": "stdout",
     "output_type": "stream",
     "text": [
      "[[-1.3   -1.3   -1.3   ... -1.3   -1.3   -1.3  ]\n",
      " [-1.295 -1.295 -1.295 ... -1.295 -1.295 -1.295]\n",
      " [-1.29  -1.29  -1.29  ... -1.29  -1.29  -1.29 ]\n",
      " ...\n",
      " [ 1.285  1.285  1.285 ...  1.285  1.285  1.285]\n",
      " [ 1.29   1.29   1.29  ...  1.29   1.29   1.29 ]\n",
      " [ 1.295  1.295  1.295 ...  1.295  1.295  1.295]]\n",
      "[[-2.    -1.995 -1.99  ...  0.985  0.99   0.995]\n",
      " [-2.    -1.995 -1.99  ...  0.985  0.99   0.995]\n",
      " [-2.    -1.995 -1.99  ...  0.985  0.99   0.995]\n",
      " ...\n",
      " [-2.    -1.995 -1.99  ...  0.985  0.99   0.995]\n",
      " [-2.    -1.995 -1.99  ...  0.985  0.99   0.995]\n",
      " [-2.    -1.995 -1.99  ...  0.985  0.99   0.995]]\n",
      "[[-2.   -1.3j   -1.995-1.3j   -1.99 -1.3j   ...  0.985-1.3j\n",
      "   0.99 -1.3j    0.995-1.3j  ]\n",
      " [-2.   -1.295j -1.995-1.295j -1.99 -1.295j ...  0.985-1.295j\n",
      "   0.99 -1.295j  0.995-1.295j]\n",
      " [-2.   -1.29j  -1.995-1.29j  -1.99 -1.29j  ...  0.985-1.29j\n",
      "   0.99 -1.29j   0.995-1.29j ]\n",
      " ...\n",
      " [-2.   +1.285j -1.995+1.285j -1.99 +1.285j ...  0.985+1.285j\n",
      "   0.99 +1.285j  0.995+1.285j]\n",
      " [-2.   +1.29j  -1.995+1.29j  -1.99 +1.29j  ...  0.985+1.29j\n",
      "   0.99 +1.29j   0.995+1.29j ]\n",
      " [-2.   +1.295j -1.995+1.295j -1.99 +1.295j ...  0.985+1.295j\n",
      "   0.99 +1.295j  0.995+1.295j]]\n"
     ]
    }
   ],
   "source": [
    "# Use NumPy to create a 2D array of complex numbers\n",
    "\n",
    "Y, X = np.mgrid[-1.3:1.3:0.005, -2:1:0.005]\n",
    "print(Y)\n",
    "print (X)\n",
    "Z = X+1j*Y\n",
    "print(Z)"
   ]
  },
  {
   "cell_type": "markdown",
   "metadata": {},
   "source": [
    "Now we define and initialize TensorFlow tensors."
   ]
  },
  {
   "cell_type": "code",
   "execution_count": 8,
   "metadata": {},
   "outputs": [
    {
     "name": "stdout",
     "output_type": "stream",
     "text": [
      "Tensor(\"Const:0\", shape=(520, 600), dtype=complex64)\n",
      "<tf.Variable 'Variable:0' shape=(520, 600) dtype=complex64_ref>\n",
      "Tensor(\"zeros_like:0\", shape=(520, 600), dtype=float32)\n",
      "<tf.Variable 'Variable_1:0' shape=(520, 600) dtype=float32_ref>\n"
     ]
    }
   ],
   "source": [
    "xs = tf.constant(Z.astype(np.complex64))\n",
    "print(xs)\n",
    "zs = tf.Variable(xs)\n",
    "print(zs)\n",
    "bs = tf.zeros_like(xs,tf.float32)\n",
    "print(bs)\n",
    "ns = tf.Variable(bs)\n",
    "print(ns)\n"
   ]
  },
  {
   "cell_type": "markdown",
   "metadata": {},
   "source": [
    "Initialize variables in TensorFlow before using them"
   ]
  },
  {
   "cell_type": "code",
   "execution_count": 9,
   "metadata": {
    "collapsed": true
   },
   "outputs": [],
   "source": [
    "tf.global_variables_initializer().run()"
   ]
  },
  {
   "cell_type": "raw",
   "metadata": {
    "collapsed": true
   },
   "source": [
    "###### Now specify the computation\n",
    "Source: https://www.tensorflow.org/tutorials/mandelbrot#mandelbrot-set"
   ]
  },
  {
   "cell_type": "code",
   "execution_count": 16,
   "metadata": {
    "collapsed": true
   },
   "outputs": [],
   "source": [
    "# Compute the new values of z: z^2 + x\n",
    "zs_ = zs*zs + xs\n",
    "\n",
    "# Have we diverged with this new value?\n",
    "not_diverged = tf.abs(zs_) < 4\n",
    "\n",
    "# Operation to update the zs and the iteration count.\n",
    "#\n",
    "# Note: We keep computing zs after they diverge! This\n",
    "#       is very wasteful! There are better, if a little\n",
    "#       less simple, ways to do this.\n",
    "#\n",
    "step = tf.group(\n",
    "  zs.assign(zs_),\n",
    "  ns.assign_add(tf.cast(not_diverged, tf.float32))\n",
    "  )"
   ]
  },
  {
   "cell_type": "code",
   "execution_count": 17,
   "metadata": {
    "collapsed": true
   },
   "outputs": [],
   "source": [
    "for i in range(200): step.run()"
   ]
  },
  {
   "cell_type": "code",
   "execution_count": 19,
   "metadata": {},
   "outputs": [
    {
     "data": {
      "image/jpeg": "[encoded data removed]",
      "text/plain": [
       "<IPython.core.display.Image object>"
      ]
     },
     "metadata": {},
     "output_type": "display_data"
    }
   ],
   "source": [
    "DisplayFractal(ns.eval())"
   ]
  },
  {
   "cell_type": "markdown",
   "metadata": {},
   "source": [
    "That is cool, can you do different shapes?"
   ]
  },
  {
   "cell_type": "code",
   "execution_count": 39,
   "metadata": {},
   "outputs": [],
   "source": [
    "# Compute the new values of z: z^3 + x\n",
    "zs_new = zs**4 + xs"
   ]
  },
  {
   "cell_type": "code",
   "execution_count": 40,
   "metadata": {
    "collapsed": true
   },
   "outputs": [],
   "source": [
    "# Have we diverged with this new value?\n",
    "not_diverged = tf.abs(zs_new) < 4\n",
    "\n",
    "# Operation to update the zs and the iteration count.\n",
    "#\n",
    "# Note: We keep computing zs after they diverge! This\n",
    "#       is very wasteful! There are better, if a little\n",
    "#       less simple, ways to do this.\n",
    "#\n",
    "step = tf.group(\n",
    "  zs.assign(zs_new),\n",
    "  ns.assign_add(tf.cast(not_diverged, tf.float32))\n",
    "  )"
   ]
  },
  {
   "cell_type": "code",
   "execution_count": 41,
   "metadata": {
    "collapsed": true
   },
   "outputs": [],
   "source": [
    "for i in range(200): step.run()"
   ]
  },
  {
   "cell_type": "code",
   "execution_count": 42,
   "metadata": {},
   "outputs": [
    {
     "data": {
      "image/jpeg": "[encoded data removed]",
      "text/plain": [
       "<IPython.core.display.Image object>"
      ]
     },
     "metadata": {},
     "output_type": "display_data"
    }
   ],
   "source": [
    "DisplayFractal(ns.eval())"
   ]
  },
  {
   "cell_type": "code",
   "execution_count": null,
   "metadata": {
    "collapsed": true
   },
   "outputs": [],
   "source": []
  }
 ],
 "metadata": {
  "kernelspec": {
   "display_name": "Python 3",
   "language": "python",
   "name": "python3"
  },
  "language_info": {
   "codemirror_mode": {
    "name": "ipython",
    "version": 3
   },
   "file_extension": ".py",
   "mimetype": "text/x-python",
   "name": "python",
   "nbconvert_exporter": "python",
   "pygments_lexer": "ipython3",
   "version": "3.5.2"
  }
 },
 "nbformat": 4,
 "nbformat_minor": 2
}
