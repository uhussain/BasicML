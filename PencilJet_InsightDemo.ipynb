{
 "cells": [
  {
   "cell_type": "markdown",
   "metadata": {},
   "source": [
    "**Physics Detector Overview**\n",
    "- We measure energy deposits in a cylindrical detector and see how focused it is in the space of the detector\n",
    "- Collide particles in the center, stuff comes out and hits the cylinder, then you flatten it and sum the energy"
   ]
  },
  {
   "cell_type": "markdown",
   "metadata": {},
   "source": [
    "![Introduction](Intro.jpeg)\n"
   ]
  },
  {
   "cell_type": "markdown",
   "metadata": {},
   "source": [
    "\"uproot (originally μproot, for \"micro-Python ROOT\") is a reader and a writer of the ROOT file format using only Python and Numpy. \n",
    "- Unlike the standard C++ ROOT implementation, uproot is only an I/O library, primarily intended to stream data into machine learning libraries in Python. \n",
    "- It uses Numpy to cast blocks of data from the ROOT file as Numpy arrays. ...\"\n",
    "\n",
    "https://github.com/scikit-hep/uproot#introduction"
   ]
  },
  {
   "cell_type": "code",
   "execution_count": 8,
   "metadata": {},
   "outputs": [],
   "source": [
    "import uproot\n",
    "import numpy as np\n",
    "import matplotlib.pyplot as plt"
   ]
  },
  {
   "cell_type": "markdown",
   "metadata": {},
   "source": [
    "**TTrees?**\n",
    "- TTrees are special objects in ROOT files: \n",
    "- They contain most of the physics data. "
   ]
  },
  {
   "cell_type": "code",
   "execution_count": 9,
   "metadata": {},
   "outputs": [],
   "source": [
    "#We care about the EventTree which has been prepared using a full C++ based \"Ntuplizer\"\n",
    "#https://github.com/uhussain/ggAnalysis/blob/master/ggNtuplizer/plugins/ggNtuplizer_jets.cc#L177\n",
    "\n",
    "#Complex set of C++ code, basically gets our physics data in a suitable format for analysis!"
   ]
  },
  {
   "cell_type": "code",
   "execution_count": 41,
   "metadata": {},
   "outputs": [],
   "source": [
    "#Physics Data array from Simulations (Data)!\n",
    "def physicsDataArray(FilePrefix,IDs,EventTree,feature):\n",
    "    #signal = uproot.lazyarray( [\"MonoZprime_Mx10_Mv1000-%s.root\" % x\n",
    "    #        for x in [\"0030\",\"0040\",\"0050\",\"0060\",\"0070\",\"0080\",\"0090\"]],\n",
    "        # TTree name in each file\n",
    "    #    \"ggNtuplizer/EventTree;1\",\n",
    "        # branch(s) in each file for lazyarray(s)\n",
    "     #   \"jetetaWidth\")\n",
    "    physicsData = uproot.lazyarray([FilePrefix % x for x in IDs],EventTree,feature)\n",
    "    return physicsData"
   ]
  },
  {
   "cell_type": "code",
   "execution_count": 42,
   "metadata": {},
   "outputs": [
    {
     "name": "stdout",
     "output_type": "stream",
     "text": [
      "3500\n",
      "<class 'awkward.array.chunked.ChunkedArray'>\n"
     ]
    }
   ],
   "source": [
    "#Sample Signal\n",
    "signalFiles= [\"0030\",\"0040\",\"0050\",\"0060\",\"0070\",\"0080\",\"0090\"]\n",
    "signal = physicsDataArray(\"MonoZprime_Mx10_Mv1000-%s.root\",signalFiles,\"ggNtuplizer/EventTree;1\",\"jetetaWidth\")\n",
    "print(len(signal))\n",
    "print(type(signal))"
   ]
  },
  {
   "cell_type": "markdown",
   "metadata": {},
   "source": [
    "In physics data, very common to have an arbitrary number of values per event than a fixed number of values per event. For instance,\n",
    "- Some events will not have a \"good quality\" Jet \n",
    "\n",
    "Unlike fixed-width arrays and a fixed number of fields per element, Numpy has no analogue for this type. For this, uproot fills a new JaggedArray data structure (from the awkward-array library, like ChunkedArray and VirtualArray)"
   ]
  },
  {
   "cell_type": "code",
   "execution_count": 43,
   "metadata": {},
   "outputs": [
    {
     "data": {
      "text/plain": [
       "2643"
      ]
     },
     "execution_count": 43,
     "metadata": {},
     "output_type": "execute_result"
    }
   ],
   "source": [
    "#Signal events with a jet candidate with momentum (pt > 20 GeV)\n",
    "#https://github.com/uhussain/ggAnalysis/blob/master/ggNtuplizer/plugins/ggNtuplizer_jets.cc#L556\n",
    "GoodSignal = np.array(signal[signal.counts>1,0])\n",
    "len(GoodSignal)"
   ]
  },
  {
   "cell_type": "code",
   "execution_count": 44,
   "metadata": {},
   "outputs": [
    {
     "data": {
      "image/png": "[encoded data removed]",
      "text/plain": [
       "<Figure size 432x288 with 1 Axes>"
      ]
     },
     "metadata": {
      "needs_background": "light"
     },
     "output_type": "display_data"
    }
   ],
   "source": [
    "#Plotting this \"FEATURE\" just for the good signal events\n",
    "plt.xlabel(\"Jet eta Width\");\n",
    "plt.ylabel(\"events per bin\");\n",
    "plt.hist(GoodSignal,histtype='step',alpha=0.5,label='Pencil Jet')\n",
    "plt.legend()\n",
    "np.warnings.filterwarnings('ignore')"
   ]
  },
  {
   "cell_type": "code",
   "execution_count": 48,
   "metadata": {},
   "outputs": [
    {
     "data": {
      "text/plain": [
       "199204"
      ]
     },
     "execution_count": 48,
     "metadata": {},
     "output_type": "execute_result"
    }
   ],
   "source": [
    "bkgFiles=[\"1\",\"2\"]\n",
    "filePrefix=\"BackgroundZJets/ggtree_mc_%s.root\"\n",
    "treeName=\"ggNtuplizer/EventTree;25\"\n",
    "Feature=\"jetetaWidth\"\n",
    "\n",
    "#Physics Data array of some background files!\n",
    "background = physicsDataArray(filePrefix,bkgFiles,treeName,Feature)\n",
    "\n",
    "len(background)"
   ]
  },
  {
   "cell_type": "code",
   "execution_count": 49,
   "metadata": {},
   "outputs": [
    {
     "data": {
      "text/plain": [
       "198082"
      ]
     },
     "execution_count": 49,
     "metadata": {},
     "output_type": "execute_result"
    }
   ],
   "source": [
    "#Background events with a jet candidate with momentum (pt > 20 GeV)\n",
    "GoodBkg = np.array(background[background.counts>1,0])\n",
    "len(GoodBkg)"
   ]
  },
  {
   "cell_type": "code",
   "execution_count": 50,
   "metadata": {},
   "outputs": [
    {
     "name": "stdout",
     "output_type": "stream",
     "text": [
      "SigNormalizationFactor:  10.421257142857144\n",
      "BkgNormalizationFactor:  1.9301269050822276\n"
     ]
    }
   ],
   "source": [
    "#signal and background events normalized to respective \"cross-sections\" (likelihood of the process) with\n",
    "sig_w = (1/3500)*(35900*0.10160E+01)\n",
    "bkg_w = (1/199204)*(35900*10.71)\n",
    "print(\"SigNormalizationFactor: \",sig_w)\n",
    "print(\"BkgNormalizationFactor: \", bkg_w)\n",
    "def ApplyWeights(signal,background):\n",
    "    SigWeights = signal*sig_w\n",
    "    BkgWeights = background*bkg_w\n",
    "    return SigWeights,BkgWeights\n",
    "\n",
    "def PlotHists(sig,sigW,bkg,bkgW,cut):\n",
    "    plt.xlabel(\"Jet eta Width\");\n",
    "    plt.ylabel(\"events per bin\");\n",
    "    plt.hist(sig,histtype='step',weights=sigW,alpha=0.5,log=True,label='Pencil Jet')\n",
    "    plt.hist(bkg,weights=bkgW,alpha=0.5,log=True,label='Z(vv)+Jets')\n",
    "    plt.legend()\n",
    "    if cut==True:\n",
    "        plt.axvline(0.04)"
   ]
  },
  {
   "cell_type": "code",
   "execution_count": 51,
   "metadata": {},
   "outputs": [
    {
     "data": {
      "image/png": "[encoded data removed]",
      "text/plain": [
       "<Figure size 432x288 with 1 Axes>"
      ]
     },
     "metadata": {
      "needs_background": "light"
     },
     "output_type": "display_data"
    }
   ],
   "source": [
    "#Plotting signal and background events normalized to respective \"cross-sections\" (likelihood of the process) \n",
    "SigW,BkgW = ApplyWeights(GoodSignal,GoodBkg)\n",
    "PlotHists(GoodSignal,SigW,GoodBkg,BkgW,False)"
   ]
  },
  {
   "cell_type": "code",
   "execution_count": 52,
   "metadata": {},
   "outputs": [
    {
     "data": {
      "image/png": "[encoded data removed]",
      "text/plain": [
       "<Figure size 432x288 with 1 Axes>"
      ]
     },
     "metadata": {
      "needs_background": "light"
     },
     "output_type": "display_data"
    }
   ],
   "source": [
    "#We can do a basic Cut and Count analysis by cutting on jet eta Width < 0.04 to discriminate signal from background\n",
    "SelectedSig = GoodSignal[GoodSignal<=0.04]\n",
    "SelectedBkg = GoodBkg[GoodBkg<=0.04]\n",
    "#Applying Weights and plotting the two hists\n",
    "SigW,BkgW = ApplyWeights(SelectedSig,SelectedBkg)\n",
    "PlotHists(SelectedSig,SigW,SelectedBkg,BkgW,False)"
   ]
  },
  {
   "cell_type": "markdown",
   "metadata": {},
   "source": [
    "**Why not go harder with the cut at 0.03 or even 0.02 as it seemingly improves \"Quality\" of the signal vs noise?**\n",
    "- I want to discover it if it's there, and not discover it if it's not there\n",
    "- While we want to reduce the \"noise\" we also want to **preserve the signal efficiency**, which basically refers to the effectiveness in finding such a rare signal from analyzing petabytes of physics data\n",
    "- I apply **domain knowledge** to identify that a **signal efficiency** below 50% is not acceptable"
   ]
  },
  {
   "cell_type": "code",
   "execution_count": 38,
   "metadata": {},
   "outputs": [
    {
     "data": {
      "text/plain": [
       "<matplotlib.lines.Line2D at 0x11920ce10>"
      ]
     },
     "execution_count": 38,
     "metadata": {},
     "output_type": "execute_result"
    },
    {
     "data": {
      "image/png": "[encoded data removed]",
      "text/plain": [
       "<Figure size 432x288 with 1 Axes>"
      ]
     },
     "metadata": {
      "needs_background": "light"
     },
     "output_type": "display_data"
    }
   ],
   "source": [
    "CutValue = [\"Baseline\",\"<0.06\",\"<0.04\",\"<0.03\",\"<0.02\"]\n",
    "Quality = [44.5,68.3,105.1,137.6,157.5]\n",
    "Quality_baseline = []\n",
    "for i in range(len(Quality)):\n",
    "    Quality_baseline.append(((Quality[i]-Quality[0])/Quality[0])*100)\n",
    "Sig_Eff = [100,91.2,66.3,42.1,16.5]\n",
    "plt.xlabel(\"Jet Eta Width Cut Value\");\n",
    "plt.ylabel(\"Percent (%)\");\n",
    "plt.plot(CutValue, Sig_Eff,alpha=0.5,label='Signal Efficiency',marker='o', color='b')\n",
    "plt.plot(CutValue, Quality_baseline,alpha=0.5,label='Quality of Signal over baseline',marker='s')\n",
    "plt.legend()\n",
    "plt.axvline(\"<0.04\")"
   ]
  },
  {
   "cell_type": "markdown",
   "metadata": {},
   "source": [
    "**Conclusion**\n",
    "\n",
    "- Model/Classifier built on simulated samples, in physics we can have very accurate simulations of real data.\n",
    "- Apply this model to real physics data"
   ]
  },
  {
   "cell_type": "markdown",
   "metadata": {},
   "source": [
    "**BackUp Material/Calculations and plot info shown in table form below this cell** "
   ]
  },
  {
   "cell_type": "code",
   "execution_count": 15,
   "metadata": {},
   "outputs": [],
   "source": [
    "Quality_before = (len(GoodSignal)*sig_w)/(np.sqrt(len(GoodBkg)*bkg_w))"
   ]
  },
  {
   "cell_type": "code",
   "execution_count": 16,
   "metadata": {},
   "outputs": [],
   "source": [
    "Quality_After = (len(SelectedSig)*sig_w)/(np.sqrt(len(SelectedBkg)*bkg_w))"
   ]
  },
  {
   "cell_type": "code",
   "execution_count": 17,
   "metadata": {
    "scrolled": true
   },
   "outputs": [
    {
     "name": "stdout",
     "output_type": "stream",
     "text": [
      "TotalBkg:  198082\n",
      "S/sqrt(B) Before:  44.545294735908264\n",
      "SigEfficiency (before):  100.00 %\n",
      "S/sqrt(B) After:  105.11241359854189\n",
      "SigEfficiency (after):  66.29 %\n"
     ]
    }
   ],
   "source": [
    "SigEff_base = len(GoodSignal)/2643.0\n",
    "SigEff = len(SelectedSig)/2643.0\n",
    "print(\"TotalBkg: \",(len(GoodBkg)))\n",
    "print (\"S/sqrt(B) Before: \",Quality_before)\n",
    "print (\"SigEfficiency (before): \", \"%.2f\" %(SigEff_base*100),\"%\")\n",
    "print (\"S/sqrt(B) After: \",Quality_After)\n",
    "print (\"SigEfficiency (after): \", \"%.2f\" %(SigEff*100),\"%\")"
   ]
  },
  {
   "cell_type": "markdown",
   "metadata": {},
   "source": [
    "|sig_w=10.42, bkg_w=1.93|Baseline | JetEtaWidth < 0.06| **JetEtaWidth < 0.04** |JetEtaWidth < 0.03 |JetEtaWidth < 0.02|\n",
    "| ------------------- |         |                   |                       |                  |                  |\n",
    "| Total Signal (S)    |2643     |2410               |1752                   |1113              |435               |\n",
    "| Total Background (B)|198082   |70039              |15632                  |3679              |429             |\n",
    "| Signal Eff.         |100%     |91.18 %            |66.29%                 |42.11 %           |16.46 %           |\n",
    "| (S * sig_w)/sqrt(B * bkg_w)         |44.5     |68.3               |105.1                  |137.6             |157.5             |"
   ]
  }
 ],
 "metadata": {
  "kernelspec": {
   "display_name": "Python 3",
   "language": "python",
   "name": "python3"
  },
  "language_info": {
   "codemirror_mode": {
    "name": "ipython",
    "version": 3
   },
   "file_extension": ".py",
   "mimetype": "text/x-python",
   "name": "python",
   "nbconvert_exporter": "python",
   "pygments_lexer": "ipython3",
   "version": "3.7.2"
  }
 },
 "nbformat": 4,
 "nbformat_minor": 2
}
