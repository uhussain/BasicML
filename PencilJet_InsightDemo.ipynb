{
 "cells": [
  {
   "cell_type": "markdown",
   "metadata": {},
   "source": [
    "**Physics Detector Overview**\n",
    "- We measure energy deposits in a cylindrical detector and see how focused it is in the space of the detector\n",
    "- Collide particles in the center, stuff comes out and hits the cylinder, then you flatten it and sum the energy"
   ]
  },
  {
   "cell_type": "markdown",
   "metadata": {},
   "source": [
    "![Introduction](Intro.jpeg)\n"
   ]
  },
  {
   "cell_type": "markdown",
   "metadata": {},
   "source": [
    "\"uproot (originally μproot, for \"micro-Python ROOT\") is a reader and a writer of the ROOT file format using only Python and Numpy. \n",
    "- Unlike the standard C++ ROOT implementation, uproot is only an I/O library, primarily intended to stream data into machine learning libraries in Python. \n",
    "- It uses Numpy to cast blocks of data from the ROOT file as Numpy arrays. ...\"\n",
    "\n",
    "https://github.com/scikit-hep/uproot#introduction"
   ]
  },
  {
   "cell_type": "code",
   "execution_count": 10,
   "metadata": {},
   "outputs": [],
   "source": [
    "import uproot\n",
    "import numpy as np\n",
    "import matplotlib.pyplot as plt"
   ]
  },
  {
   "cell_type": "markdown",
   "metadata": {},
   "source": [
    "**TTrees?**\n",
    "- TTrees are special objects in ROOT files: \n",
    "- They contain most of the physics data. "
   ]
  },
  {
   "cell_type": "code",
   "execution_count": 11,
   "metadata": {},
   "outputs": [],
   "source": [
    "#We care about the EventTree which has been prepared using a full C++ based \"Ntuplizer\"\n",
    "#https://github.com/uhussain/ggAnalysis/blob/master/ggNtuplizer/plugins/ggNtuplizer_jets.cc#L177\n",
    "\n",
    "#Complex set of C++ code, basically gets our physics data in a suitable format for analysis!"
   ]
  },
  {
   "cell_type": "code",
   "execution_count": 24,
   "metadata": {},
   "outputs": [
    {
     "name": "stdout",
     "output_type": "stream",
     "text": [
      "3500\n",
      "<class 'awkward.array.chunked.ChunkedArray'>\n"
     ]
    }
   ],
   "source": [
    "#Lazy array of many signal files!\n",
    "signal = uproot.lazyarray( [\"MonoZprime_Mx10_Mv1000-%s.root\" % x\n",
    "        for x in [\"0030\",\"0040\",\"0050\",\"0060\",\"0070\",\"0080\",\"0090\"]],\n",
    "    # TTree name in each file\n",
    "    \"ggNtuplizer/EventTree;1\",\n",
    "    # branch(s) in each file for lazyarray(s)\n",
    "    \"jetetaWidth\")\n",
    "print(len(signal))\n",
    "print(type(signal))"
   ]
  },
  {
   "cell_type": "markdown",
   "metadata": {},
   "source": [
    "In physics data, very common to have an arbitrary number of values per event than a fixed number of values per event. For instance,\n",
    "- Some events will not have a \"good quality\" Jet \n",
    "\n",
    "Unlike fixed-width arrays and a fixed number of fields per element, Numpy has no analogue for this type. For this, uproot fills a new JaggedArray data structure (from the awkward-array library, like ChunkedArray and VirtualArray)"
   ]
  },
  {
   "cell_type": "code",
   "execution_count": 25,
   "metadata": {},
   "outputs": [
    {
     "data": {
      "text/plain": [
       "2643"
      ]
     },
     "execution_count": 25,
     "metadata": {},
     "output_type": "execute_result"
    }
   ],
   "source": [
    "#Signal events with a jet candidate with momentum (pt > 20 GeV)\n",
    "#https://github.com/uhussain/ggAnalysis/blob/master/ggNtuplizer/plugins/ggNtuplizer_jets.cc#L556\n",
    "GoodSignal = np.array(signal[signal.counts>1,0])\n",
    "len(GoodSignal)"
   ]
  },
  {
   "cell_type": "code",
   "execution_count": 26,
   "metadata": {},
   "outputs": [
    {
     "data": {
      "text/plain": [
       "<matplotlib.legend.Legend at 0x117c90b00>"
      ]
     },
     "execution_count": 26,
     "metadata": {},
     "output_type": "execute_result"
    },
    {
     "data": {
      "image/png": "[encoded data removed]",
      "text/plain": [
       "<Figure size 432x288 with 1 Axes>"
      ]
     },
     "metadata": {
      "needs_background": "light"
     },
     "output_type": "display_data"
    }
   ],
   "source": [
    "#Plotting this \"FEATURE\" just for the good signal events\n",
    "plt.xlabel(\"Jet eta Width\");\n",
    "plt.ylabel(\"events per bin\");\n",
    "plt.hist(GoodSignal,histtype='step',alpha=0.5,label='Pencil Jet')\n",
    "plt.legend()"
   ]
  },
  {
   "cell_type": "code",
   "execution_count": 27,
   "metadata": {},
   "outputs": [
    {
     "data": {
      "text/plain": [
       "199204"
      ]
     },
     "execution_count": 27,
     "metadata": {},
     "output_type": "execute_result"
    }
   ],
   "source": [
    "#Lazy array of some background files!\n",
    "background = uproot.lazyarray( [\"BackgroundZJets/ggtree_mc_%s.root\" % x\n",
    "        for x in [\"1\",\"2\"]],\n",
    "    # TTree name in each file\n",
    "    \"ggNtuplizer/EventTree;25\",\n",
    "    # branch(s) in each file for lazyarray(s)\n",
    "    \"jetetaWidth\")\n",
    "len(background)"
   ]
  },
  {
   "cell_type": "code",
   "execution_count": 28,
   "metadata": {},
   "outputs": [
    {
     "data": {
      "text/plain": [
       "198082"
      ]
     },
     "execution_count": 28,
     "metadata": {},
     "output_type": "execute_result"
    }
   ],
   "source": [
    "#Background events with a jet candidate with momentum (pt > 20 GeV)\n",
    "GoodBkg = np.array(background[background.counts>1,0])\n",
    "len(GoodBkg)"
   ]
  },
  {
   "cell_type": "code",
   "execution_count": 106,
   "metadata": {},
   "outputs": [
    {
     "name": "stdout",
     "output_type": "stream",
     "text": [
      "10.421257142857144\n",
      "1.9301269050822276\n"
     ]
    }
   ],
   "source": [
    "sig_w = (1/3500)*(35900*0.10160E+01)\n",
    "bkg_w = (1/199204)*(35900*10.71)\n",
    "SigWeights = GoodSignal*sig_w\n",
    "BkgWeights = GoodBkg*bkg_w\n",
    "print(sig_w)\n",
    "print(bkg_w)"
   ]
  },
  {
   "cell_type": "code",
   "execution_count": 30,
   "metadata": {},
   "outputs": [
    {
     "data": {
      "text/plain": [
       "<matplotlib.legend.Legend at 0x11856e2e8>"
      ]
     },
     "execution_count": 30,
     "metadata": {},
     "output_type": "execute_result"
    },
    {
     "data": {
      "image/png": "[encoded data removed]",
      "text/plain": [
       "<Figure size 432x288 with 1 Axes>"
      ]
     },
     "metadata": {
      "needs_background": "light"
     },
     "output_type": "display_data"
    }
   ],
   "source": [
    "#Plotting signal and background events normalized to respective \"cross-sections\" (likelihood of the process) \n",
    "plt.xlabel(\"Jet eta Width\");\n",
    "plt.ylabel(\"events per bin\");\n",
    "plt.hist(GoodSignal,histtype='step',weights=SigWeights,alpha=0.5,log=True,label='Pencil Jet')\n",
    "plt.hist(GoodBkg,weights=BkgWeights,alpha=0.5,log=True,label='Z(vv)+Jets')\n",
    "plt.legend()"
   ]
  },
  {
   "cell_type": "code",
   "execution_count": 44,
   "metadata": {},
   "outputs": [],
   "source": [
    "#We can do a basic Cut and Count analysis by cutting on jet eta Width < 0.04 to discriminate signal from background\n",
    "np.warnings.filterwarnings('ignore')\n",
    "SelectedSig = GoodSignal[GoodSignal<=0.04]\n",
    "SelectedBkg = GoodBkg[GoodBkg<=0.04]\n",
    "SigWeights = SelectedSig*(1/3500)*(35900*0.10160E+01)\n",
    "BkgWeights = SelectedBkg*(1/199204)*(35900*10.71)"
   ]
  },
  {
   "cell_type": "code",
   "execution_count": 45,
   "metadata": {
    "scrolled": false
   },
   "outputs": [
    {
     "data": {
      "text/plain": [
       "<matplotlib.legend.Legend at 0x118dc14e0>"
      ]
     },
     "execution_count": 45,
     "metadata": {},
     "output_type": "execute_result"
    },
    {
     "data": {
      "image/png": "[encoded data removed]",
      "text/plain": [
       "<Figure size 432x288 with 1 Axes>"
      ]
     },
     "metadata": {
      "needs_background": "light"
     },
     "output_type": "display_data"
    }
   ],
   "source": [
    "#Plotting signal and background events normalized to respective \"cross-sections\" (likelihood of the process) \n",
    "#After Selection\n",
    "plt.xlabel(\"Jet eta Width\");\n",
    "plt.ylabel(\"events per bin\");\n",
    "plt.hist(SelectedSig,histtype='step',weights=SigWeights,alpha=0.5,log=True,label='Pencil Jet')\n",
    "plt.hist(SelectedBkg,weights=BkgWeights,alpha=0.5,log=True,label='Z(vv)+Jets')\n",
    "plt.legend()\n"
   ]
  },
  {
   "cell_type": "code",
   "execution_count": 46,
   "metadata": {},
   "outputs": [],
   "source": [
    "Quality_before = (len(GoodSignal)*sig_w)/(np.sqrt(len(GoodBkg)*bkg_w))"
   ]
  },
  {
   "cell_type": "code",
   "execution_count": 47,
   "metadata": {},
   "outputs": [],
   "source": [
    "Quality_After = (len(SelectedSig)*sig_w)/(np.sqrt(len(SelectedBkg)*bkg_w))"
   ]
  },
  {
   "cell_type": "code",
   "execution_count": 104,
   "metadata": {
    "scrolled": true
   },
   "outputs": [
    {
     "name": "stdout",
     "output_type": "stream",
     "text": [
      "TotalBkg:  198082\n",
      "S/sqrt(B) Before:  44.545294735908264\n",
      "SigEfficiency (before):  100.00 %\n",
      "S/sqrt(B) After:  105.11241359854189\n",
      "SigEfficiency (after):  66.29 %\n"
     ]
    }
   ],
   "source": [
    "SigEff_base = len(GoodSignal)/2643.0\n",
    "SigEff = len(SelectedSig)/2643.0\n",
    "print(\"TotalBkg: \",(len(GoodBkg)))\n",
    "print (\"S/sqrt(B) Before: \",Quality_before)\n",
    "print (\"SigEfficiency (before): \", \"%.2f\" %(SigEff_base*100),\"%\")\n",
    "print (\"S/sqrt(B) After: \",Quality_After)\n",
    "print (\"SigEfficiency (after): \", \"%.2f\" %(SigEff*100),\"%\")"
   ]
  },
  {
   "cell_type": "markdown",
   "metadata": {},
   "source": [
    "|sig_w=10.42, bkg_w=1.93|Baseline | JetEtaWidth < 0.06| **JetEtaWidth < 0.04** |JetEtaWidth < 0.03 |JetEtaWidth < 0.02|\n",
    "| ------------------- |         |                   |                       |                  |                  |\n",
    "| Total Signal (S)    |2643     |2410               |1752                   |1113              |435               |\n",
    "| Total Background (B)|198082   |70039              |15632                  |3679              |429             |\n",
    "| Signal Eff.         |100%     |91.18 %            |66.29%                 |42.11 %           |16.46 %           |\n",
    "| (S * sig_w)/sqrt(B * bkg_w)         |44.5     |68.3               |105.1                  |137.6             |157.5             |"
   ]
  },
  {
   "cell_type": "markdown",
   "metadata": {},
   "source": [
    "**Why not go harder with the cut at 0.03 or even 0.02 as it seemingly improves \"Quality\" of the signal vs noise?**\n",
    "- I want to discover it if it's there, and not discover it if it's not there\n",
    "- While we want to reduce the \"noise\" we also want to **preserve the signal efficiency**, which basically refers to the effectiveness in finding such a rare signal from analyzing petabytes of physics data\n",
    "- I apply **domain knowledge** to identify that a **signal efficiency** below 50% is not acceptable"
   ]
  }
 ],
 "metadata": {
  "kernelspec": {
   "display_name": "Python 3",
   "language": "python",
   "name": "python3"
  },
  "language_info": {
   "codemirror_mode": {
    "name": "ipython",
    "version": 3
   },
   "file_extension": ".py",
   "mimetype": "text/x-python",
   "name": "python",
   "nbconvert_exporter": "python",
   "pygments_lexer": "ipython3",
   "version": "3.7.2"
  }
 },
 "nbformat": 4,
 "nbformat_minor": 2
}
