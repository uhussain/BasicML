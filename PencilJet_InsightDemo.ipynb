{
 "cells": [
  {
   "cell_type": "markdown",
   "metadata": {},
   "source": [
    "\"uproot (originally μproot, for \"micro-Python ROOT\") is a reader and a writer of the ROOT file format using only Python and Numpy. \n",
    "- Unlike the standard C++ ROOT implementation, uproot is only an I/O library, primarily intended to stream data into machine learning libraries in Python. \n",
    "- It uses Numpy to cast blocks of data from the ROOT file as Numpy arrays. ...\"\n",
    "\n",
    "https://github.com/scikit-hep/uproot#introduction"
   ]
  },
  {
   "cell_type": "code",
   "execution_count": 2,
   "metadata": {},
   "outputs": [],
   "source": [
    "import uproot"
   ]
  },
  {
   "cell_type": "code",
   "execution_count": 98,
   "metadata": {},
   "outputs": [],
   "source": [
    "#uproot.open returns a ROOTDirectory, \n",
    "file = uproot.open(\"MonoZprime_Mx10_Mv1000-0000.root\")\n"
   ]
  },
  {
   "cell_type": "code",
   "execution_count": 4,
   "metadata": {},
   "outputs": [
    {
     "data": {
      "text/plain": [
       "<ROOTDirectory b'run_mc_80X-MonoZprime_Mx10_Mv1000_MINIAOD-0000.root' at 0x00010aca7c18>"
      ]
     },
     "execution_count": 4,
     "metadata": {},
     "output_type": "execute_result"
    }
   ],
   "source": [
    "file"
   ]
  },
  {
   "cell_type": "code",
   "execution_count": 5,
   "metadata": {},
   "outputs": [
    {
     "data": {
      "text/plain": [
       "[b'ggNtuplizer;1']"
      ]
     },
     "execution_count": 5,
     "metadata": {},
     "output_type": "execute_result"
    }
   ],
   "source": [
    "file.keys()"
   ]
  },
  {
   "cell_type": "code",
   "execution_count": null,
   "metadata": {},
   "outputs": [],
   "source": [
    "# which behaves like a Python dict; it has keys(), values()\n",
    "file[\"ggNtuplizer\"].keys()"
   ]
  },
  {
   "cell_type": "code",
   "execution_count": 7,
   "metadata": {},
   "outputs": [
    {
     "data": {
      "text/plain": [
       "<Compression 'zlib' 1>"
      ]
     },
     "execution_count": 7,
     "metadata": {},
     "output_type": "execute_result"
    }
   ],
   "source": [
    "file.compression"
   ]
  },
  {
   "cell_type": "code",
   "execution_count": 100,
   "metadata": {},
   "outputs": [
    {
     "data": {
      "text/plain": [
       "[<TTree b'EventTree' at 0x000112cb03c8>,\n",
       " <b'TH1F' b'hEvents' 0x0001131e8f98>,\n",
       " <b'TH1F' b'hPU' 0x0001131ef278>,\n",
       " <b'TH1F' b'hPUTrue' 0x0001131ef548>,\n",
       " <b'TH1F' b'hGenWeight' 0x0001131ef818>,\n",
       " <b'TH1F' b'hSumGenWeight' 0x0001131efae8>]"
      ]
     },
     "execution_count": 100,
     "metadata": {},
     "output_type": "execute_result"
    }
   ],
   "source": [
    "#and key-value access with square brackets.\n",
    "file[\"ggNtuplizer\"].values()"
   ]
  },
  {
   "cell_type": "markdown",
   "metadata": {},
   "source": [
    "**TTrees?**\n",
    "- TTrees are special objects in ROOT files: \n",
    "- They contain most of the physics data. "
   ]
  },
  {
   "cell_type": "code",
   "execution_count": 102,
   "metadata": {},
   "outputs": [],
   "source": [
    "#We care about the EventTree which has been prepared using a full C++ based \"Ntuplizer\"\n",
    "#https://github.com/uhussain/ggAnalysis/blob/master/ggNtuplizer/plugins/ggNtuplizer_jets.cc#L177\n",
    "\n",
    "#Complex set of C++ code, basically gets our phsysics data in a suitable format for analysis!\n",
    "EventTree = dict(file.allitems(filterclass=lambda cls: issubclass(cls, uproot.tree.TTreeMethods)))"
   ]
  },
  {
   "cell_type": "code",
   "execution_count": 103,
   "metadata": {},
   "outputs": [
    {
     "data": {
      "text/plain": [
       "{b'ggNtuplizer/EventTree;1': <TTree b'EventTree' at 0x0001131fc128>}"
      ]
     },
     "execution_count": 103,
     "metadata": {},
     "output_type": "execute_result"
    }
   ],
   "source": [
    "EventTree"
   ]
  },
  {
   "cell_type": "code",
   "execution_count": 108,
   "metadata": {},
   "outputs": [
    {
     "name": "stdout",
     "output_type": "stream",
     "text": [
      "run                        (no streamer)              asdtype('>i4')\n",
      "event                      (no streamer)              asdtype('>i8')\n",
      "lumis                      (no streamer)              asdtype('>i4')\n",
      "isData                     (no streamer)              asdtype('bool')\n",
      "nVtx                       (no streamer)              asdtype('>i4')\n",
      "nGoodVtx                   (no streamer)              asdtype('>i4')\n",
      "nTrksPV                    (no streamer)              asdtype('>i4')\n",
      "isPVGood                   (no streamer)              asdtype('bool')\n",
      "vtx                        (no streamer)              asdtype('>f4')\n",
      "vty                        (no streamer)              asdtype('>f4')\n",
      "vtz                        (no streamer)              asdtype('>f4')\n",
      "rho                        (no streamer)              asdtype('>f4')\n",
      "rhoCentral                 (no streamer)              asdtype('>f4')\n",
      "HLTEleMuX                  (no streamer)              asdtype('>u8')\n",
      "HLTPho                     (no streamer)              asdtype('>u8')\n",
      "HLTJet                     (no streamer)              asdtype('>u8')\n",
      "HLTEleMuXIsPrescaled       (no streamer)              asdtype('>u8')\n",
      "HLTPhoIsPrescaled          (no streamer)              asdtype('>u8')\n",
      "HLTJetIsPrescaled          (no streamer)              asdtype('>u8')\n",
      "pdf                        TStreamerSTL               asjagged(asdtype('>f4'), 10)\n",
      "pthat                      (no streamer)              asdtype('>f4')\n",
      "processID                  (no streamer)              asdtype('>f4')\n",
      "genWeight                  (no streamer)              asdtype('>f4')\n",
      "genHT                      (no streamer)              asdtype('>f4')\n",
      "genPho1                    (no streamer)              asdtype('>f4')\n",
      "genPho2                    (no streamer)              asdtype('>f4')\n",
      "EventTag                   TStreamerInfo              asgenobj(TString)\n",
      "nPUInfo                    (no streamer)              asdtype('>i4')\n",
      "nPU                        TStreamerSTL               asjagged(asdtype('>i4'), 10)\n",
      "puBX                       TStreamerSTL               asjagged(asdtype('>i4'), 10)\n",
      "puTrue                     TStreamerSTL               asjagged(asdtype('>f4'), 10)\n",
      "nMC                        (no streamer)              asdtype('>i4')\n",
      "mcPID                      TStreamerSTL               asjagged(asdtype('>i4'), 10)\n",
      "mcVtx                      TStreamerSTL               asjagged(asdtype('>f4'), 10)\n",
      "mcVty                      TStreamerSTL               asjagged(asdtype('>f4'), 10)\n",
      "mcVtz                      TStreamerSTL               asjagged(asdtype('>f4'), 10)\n",
      "mcPt                       TStreamerSTL               asjagged(asdtype('>f4'), 10)\n",
      "mcMass                     TStreamerSTL               asjagged(asdtype('>f4'), 10)\n",
      "mcEta                      TStreamerSTL               asjagged(asdtype('>f4'), 10)\n",
      "mcPhi                      TStreamerSTL               asjagged(asdtype('>f4'), 10)\n",
      "mcE                        TStreamerSTL               asjagged(asdtype('>f4'), 10)\n",
      "mcEt                       TStreamerSTL               asjagged(asdtype('>f4'), 10)\n",
      "mcGMomPID                  TStreamerSTL               asjagged(asdtype('>i4'), 10)\n",
      "mcMomPID                   TStreamerSTL               asjagged(asdtype('>i4'), 10)\n",
      "mcMomPt                    TStreamerSTL               asjagged(asdtype('>f4'), 10)\n",
      "mcMomMass                  TStreamerSTL               asjagged(asdtype('>f4'), 10)\n",
      "mcMomEta                   TStreamerSTL               asjagged(asdtype('>f4'), 10)\n",
      "mcMomPhi                   TStreamerSTL               asjagged(asdtype('>f4'), 10)\n",
      "mcStatusFlag               TStreamerSTL               asjagged(asdtype('>u2'), 10)\n",
      "mcParentage                TStreamerSTL               asjagged(asdtype('>i4'), 10)\n",
      "mcStatus                   TStreamerSTL               asjagged(asdtype('>i4'), 10)\n",
      "mcCalIsoDR03               TStreamerSTL               asjagged(asdtype('>f4'), 10)\n",
      "mcTrkIsoDR03               TStreamerSTL               asjagged(asdtype('>f4'), 10)\n",
      "mcCalIsoDR04               TStreamerSTL               asjagged(asdtype('>f4'), 10)\n",
      "mcTrkIsoDR04               TStreamerSTL               asjagged(asdtype('>f4'), 10)\n",
      "genMET                     (no streamer)              asdtype('>f4')\n",
      "genMETPhi                  (no streamer)              asdtype('>f4')\n",
      "metFilters                 (no streamer)              asdtype('>i4')\n",
      "pfMET                      (no streamer)              asdtype('>f4')\n",
      "caloMET                    (no streamer)              asdtype('>f4')\n",
      "caloMet                    TStreamerInfo              None\n",
      "fCoordinates               TStreamerObjectAny         None\n",
      "fCoordinates.fX            TStreamerBasicType         asdtype('>f4')\n",
      "fCoordinates.fY            TStreamerBasicType         asdtype('>f4')\n",
      "\n",
      "pfMETPhi                   (no streamer)              asdtype('>f4')\n",
      "pfMETsumEt                 (no streamer)              asdtype('>f4')\n",
      "pfMETmEtSig                (no streamer)              asdtype('>f4')\n",
      "pfMETSig                   (no streamer)              asdtype('>f4')\n",
      "pfMET_T1JERUp              (no streamer)              asdtype('>f4')\n",
      "pfMET_T1JERDo              (no streamer)              asdtype('>f4')\n",
      "pfMET_T1JESUp              (no streamer)              asdtype('>f4')\n",
      "pfMET_T1JESDo              (no streamer)              asdtype('>f4')\n",
      "pfMET_T1UESUp              (no streamer)              asdtype('>f4')\n",
      "pfMET_T1UESDo              (no streamer)              asdtype('>f4')\n",
      "pfMETPhi_T1JESUp           (no streamer)              asdtype('>f4')\n",
      "pfMETPhi_T1JESDo           (no streamer)              asdtype('>f4')\n",
      "pfMETPhi_T1UESUp           (no streamer)              asdtype('>f4')\n",
      "pfMETPhi_T1UESDo           (no streamer)              asdtype('>f4')\n",
      "nPho                       (no streamer)              asdtype('>i4')\n",
      "phoE                       TStreamerSTL               asjagged(asdtype('>f4'), 10)\n",
      "phoEt                      TStreamerSTL               asjagged(asdtype('>f4'), 10)\n",
      "phoEta                     TStreamerSTL               asjagged(asdtype('>f4'), 10)\n",
      "phoPhi                     TStreamerSTL               asjagged(asdtype('>f4'), 10)\n",
      "phoCalibE                  TStreamerSTL               asjagged(asdtype('>f4'), 10)\n",
      "phoCalibEt                 TStreamerSTL               asjagged(asdtype('>f4'), 10)\n",
      "phoSCE                     TStreamerSTL               asjagged(asdtype('>f4'), 10)\n",
      "phoSCRawE                  TStreamerSTL               asjagged(asdtype('>f4'), 10)\n",
      "phoESEnP1                  TStreamerSTL               asjagged(asdtype('>f4'), 10)\n",
      "phoESEnP2                  TStreamerSTL               asjagged(asdtype('>f4'), 10)\n",
      "phoSCEta                   TStreamerSTL               asjagged(asdtype('>f4'), 10)\n",
      "phoSCPhi                   TStreamerSTL               asjagged(asdtype('>f4'), 10)\n",
      "phoSCEtaWidth              TStreamerSTL               asjagged(asdtype('>f4'), 10)\n",
      "phoSCPhiWidth              TStreamerSTL               asjagged(asdtype('>f4'), 10)\n",
      "phoSCBrem                  TStreamerSTL               asjagged(asdtype('>f4'), 10)\n",
      "phohasPixelSeed            TStreamerSTL               asjagged(asdtype('>i4'), 10)\n",
      "phoEleVeto                 TStreamerSTL               asjagged(asdtype('>i4'), 10)\n",
      "phoR9                      TStreamerSTL               asjagged(asdtype('>f4'), 10)\n",
      "phoHoverE                  TStreamerSTL               asjagged(asdtype('>f4'), 10)\n",
      "phoE1x3                    TStreamerSTL               asjagged(asdtype('>f4'), 10)\n",
      "phoE1x5                    TStreamerSTL               asjagged(asdtype('>f4'), 10)\n",
      "phoE2x2                    TStreamerSTL               asjagged(asdtype('>f4'), 10)\n",
      "phoE2x5Max                 TStreamerSTL               asjagged(asdtype('>f4'), 10)\n",
      "phoE5x5                    TStreamerSTL               asjagged(asdtype('>f4'), 10)\n",
      "phoESEffSigmaRR            TStreamerSTL               asjagged(asdtype('>f4'), 10)\n",
      "phoSigmaIEtaIEtaFull5x5    TStreamerSTL               asjagged(asdtype('>f4'), 10)\n",
      "phoSigmaIEtaIPhiFull5x5    TStreamerSTL               asjagged(asdtype('>f4'), 10)\n",
      "phoSigmaIPhiIPhiFull5x5    TStreamerSTL               asjagged(asdtype('>f4'), 10)\n",
      "phoE1x3Full5x5             TStreamerSTL               asjagged(asdtype('>f4'), 10)\n",
      "phoE1x5Full5x5             TStreamerSTL               asjagged(asdtype('>f4'), 10)\n",
      "phoE2x2Full5x5             TStreamerSTL               asjagged(asdtype('>f4'), 10)\n",
      "phoE2x5MaxFull5x5          TStreamerSTL               asjagged(asdtype('>f4'), 10)\n",
      "phoE5x5Full5x5             TStreamerSTL               asjagged(asdtype('>f4'), 10)\n",
      "phoR9Full5x5               TStreamerSTL               asjagged(asdtype('>f4'), 10)\n",
      "phoPFChIso                 TStreamerSTL               asjagged(asdtype('>f4'), 10)\n",
      "phoPFPhoIso                TStreamerSTL               asjagged(asdtype('>f4'), 10)\n",
      "phoPFNeuIso                TStreamerSTL               asjagged(asdtype('>f4'), 10)\n",
      "phoPFChWorstIso            TStreamerSTL               asjagged(asdtype('>f4'), 10)\n",
      "phoPFRandConeChIso         TStreamerSTL               asjagged(asdtype('>f4'), 10)\n",
      "phoCITKChIso               TStreamerSTL               asjagged(asdtype('>f4'), 10)\n",
      "phoCITKPhoIso              TStreamerSTL               asjagged(asdtype('>f4'), 10)\n",
      "phoCITKNeuIso              TStreamerSTL               asjagged(asdtype('>f4'), 10)\n",
      "phoIDMVA                   TStreamerSTL               asjagged(asdtype('>f4'), 10)\n",
      "phoFiredSingleTrgs         (no streamer)              asjagged(asdtype('>u8'), 10)\n",
      "phoFiredDoubleTrgs         (no streamer)              asjagged(asdtype('>u8'), 10)\n",
      "phoFiredL1Trgs             (no streamer)              asjagged(asdtype('>u8'), 10)\n",
      "phoSeedTime                TStreamerSTL               asjagged(asdtype('>f4'), 10)\n",
      "phoSeedEnergy              TStreamerSTL               asjagged(asdtype('>f4'), 10)\n",
      "phoxtalBits                TStreamerSTL               asjagged(asdtype('>u2'), 10)\n",
      "phoIDbit                   TStreamerSTL               asjagged(asdtype('>u2'), 10)\n",
      "phoScale_stat_up           TStreamerSTL               asjagged(asdtype('>f4'), 10)\n",
      "phoScale_stat_dn           TStreamerSTL               asjagged(asdtype('>f4'), 10)\n",
      "phoScale_syst_up           TStreamerSTL               asjagged(asdtype('>f4'), 10)\n",
      "phoScale_syst_dn           TStreamerSTL               asjagged(asdtype('>f4'), 10)\n",
      "phoScale_gain_up           TStreamerSTL               asjagged(asdtype('>f4'), 10)\n",
      "phoScale_gain_dn           TStreamerSTL               asjagged(asdtype('>f4'), 10)\n",
      "phoResol_rho_up            TStreamerSTL               asjagged(asdtype('>f4'), 10)\n",
      "phoResol_rho_dn            TStreamerSTL               asjagged(asdtype('>f4'), 10)\n",
      "phoResol_phi_up            TStreamerSTL               asjagged(asdtype('>f4'), 10)\n",
      "phoResol_phi_dn            TStreamerSTL               asjagged(asdtype('>f4'), 10)\n",
      "nEle                       (no streamer)              asdtype('>i4')\n",
      "eleCharge                  TStreamerSTL               asjagged(asdtype('>i4'), 10)\n",
      "eleChargeConsistent        TStreamerSTL               asjagged(asdtype('>i4'), 10)\n",
      "eleEn                      TStreamerSTL               asjagged(asdtype('>f4'), 10)\n",
      "eleSCEn                    TStreamerSTL               asjagged(asdtype('>f4'), 10)\n",
      "eleEcalEn                  TStreamerSTL               asjagged(asdtype('>f4'), 10)\n",
      "eleESEnP1                  TStreamerSTL               asjagged(asdtype('>f4'), 10)\n",
      "eleESEnP2                  TStreamerSTL               asjagged(asdtype('>f4'), 10)\n",
      "eleD0                      TStreamerSTL               asjagged(asdtype('>f4'), 10)\n",
      "eleDz                      TStreamerSTL               asjagged(asdtype('>f4'), 10)\n",
      "eleSIP                     TStreamerSTL               asjagged(asdtype('>f4'), 10)\n",
      "elePt                      TStreamerSTL               asjagged(asdtype('>f4'), 10)\n",
      "eleEta                     TStreamerSTL               asjagged(asdtype('>f4'), 10)\n",
      "elePhi                     TStreamerSTL               asjagged(asdtype('>f4'), 10)\n",
      "eleR9                      TStreamerSTL               asjagged(asdtype('>f4'), 10)\n",
      "eleCalibPt                 TStreamerSTL               asjagged(asdtype('>f4'), 10)\n",
      "eleCalibEn                 TStreamerSTL               asjagged(asdtype('>f4'), 10)\n",
      "eleSCEta                   TStreamerSTL               asjagged(asdtype('>f4'), 10)\n",
      "eleSCPhi                   TStreamerSTL               asjagged(asdtype('>f4'), 10)\n",
      "eleSCRawEn                 TStreamerSTL               asjagged(asdtype('>f4'), 10)\n",
      "eleSCEtaWidth              TStreamerSTL               asjagged(asdtype('>f4'), 10)\n",
      "eleSCPhiWidth              TStreamerSTL               asjagged(asdtype('>f4'), 10)\n",
      "eleHoverE                  TStreamerSTL               asjagged(asdtype('>f4'), 10)\n",
      "eleEoverP                  TStreamerSTL               asjagged(asdtype('>f4'), 10)\n",
      "eleEoverPout               TStreamerSTL               asjagged(asdtype('>f4'), 10)\n",
      "eleEoverPInv               TStreamerSTL               asjagged(asdtype('>f4'), 10)\n",
      "eleBrem                    TStreamerSTL               asjagged(asdtype('>f4'), 10)\n",
      "eledEtaAtVtx               TStreamerSTL               asjagged(asdtype('>f4'), 10)\n",
      "eledPhiAtVtx               TStreamerSTL               asjagged(asdtype('>f4'), 10)\n",
      "eledEtaAtCalo              TStreamerSTL               asjagged(asdtype('>f4'), 10)\n",
      "eleSigmaIEtaIEtaFull5x5    TStreamerSTL               asjagged(asdtype('>f4'), 10)\n",
      "eleSigmaIPhiIPhiFull5x5    TStreamerSTL               asjagged(asdtype('>f4'), 10)\n",
      "eleConvVeto                TStreamerSTL               asjagged(asdtype('>i4'), 10)\n",
      "eleMissHits                TStreamerSTL               asjagged(asdtype('>i4'), 10)\n",
      "eleESEffSigmaRR            TStreamerSTL               asjagged(asdtype('>f4'), 10)\n",
      "elePFChIso                 TStreamerSTL               asjagged(asdtype('>f4'), 10)\n",
      "elePFPhoIso                TStreamerSTL               asjagged(asdtype('>f4'), 10)\n",
      "elePFNeuIso                TStreamerSTL               asjagged(asdtype('>f4'), 10)\n",
      "elePFPUIso                 TStreamerSTL               asjagged(asdtype('>f4'), 10)\n",
      "elePFClusEcalIso           TStreamerSTL               asjagged(asdtype('>f4'), 10)\n",
      "elePFClusHcalIso           TStreamerSTL               asjagged(asdtype('>f4'), 10)\n",
      "elePFMiniIso               TStreamerSTL               asjagged(asdtype('>f4'), 10)\n",
      "eleIDMVA                   TStreamerSTL               asjagged(asdtype('>f4'), 10)\n",
      "eleIDMVAHZZ                TStreamerSTL               asjagged(asdtype('>f4'), 10)\n",
      "eledEtaseedAtVtx           TStreamerSTL               asjagged(asdtype('>f4'), 10)\n",
      "eleE1x5                    TStreamerSTL               asjagged(asdtype('>f4'), 10)\n",
      "eleE2x5                    TStreamerSTL               asjagged(asdtype('>f4'), 10)\n",
      "eleE5x5                    TStreamerSTL               asjagged(asdtype('>f4'), 10)\n",
      "eleE1x5Full5x5             TStreamerSTL               asjagged(asdtype('>f4'), 10)\n",
      "eleE2x5Full5x5             TStreamerSTL               asjagged(asdtype('>f4'), 10)\n",
      "eleE5x5Full5x5             TStreamerSTL               asjagged(asdtype('>f4'), 10)\n",
      "eleR9Full5x5               TStreamerSTL               asjagged(asdtype('>f4'), 10)\n",
      "eleEcalDrivenSeed          TStreamerSTL               asjagged(asdtype('>i4'), 10)\n",
      "eleDr03EcalRecHitSumEt     TStreamerSTL               asjagged(asdtype('>f4'), 10)\n",
      "eleDr03HcalDepth1TowerSumEt\n",
      "                           TStreamerSTL               asjagged(asdtype('>f4'), 10)\n",
      "eleDr03HcalDepth2TowerSumEt\n",
      "                           TStreamerSTL               asjagged(asdtype('>f4'), 10)\n",
      "eleDr03HcalTowerSumEt      TStreamerSTL               asjagged(asdtype('>f4'), 10)\n",
      "eleDr03TkSumPt             TStreamerSTL               asjagged(asdtype('>f4'), 10)\n",
      "elecaloEnergy              TStreamerSTL               asjagged(asdtype('>f4'), 10)\n",
      "eleTrkdxy                  TStreamerSTL               asjagged(asdtype('>f4'), 10)\n",
      "eleKFHits                  TStreamerSTL               asjagged(asdtype('>f4'), 10)\n",
      "eleKFChi2                  TStreamerSTL               asjagged(asdtype('>f4'), 10)\n",
      "eleGSFChi2                 TStreamerSTL               asjagged(asdtype('>f4'), 10)\n",
      "eleGSFPt                   TStreamerSTL               asgenobj(STLVector(STLVector(asdtype('>f4'))))\n",
      "eleGSFEta                  TStreamerSTL               asgenobj(STLVector(STLVector(asdtype('>f4'))))\n",
      "eleGSFPhi                  TStreamerSTL               asgenobj(STLVector(STLVector(asdtype('>f4'))))\n",
      "eleGSFCharge               TStreamerSTL               asgenobj(STLVector(STLVector(asdtype('>f4'))))\n",
      "eleGSFHits                 TStreamerSTL               asgenobj(STLVector(STLVector(asdtype('>i4'))))\n",
      "eleGSFMissHits             TStreamerSTL               asgenobj(STLVector(STLVector(asdtype('>i4'))))\n",
      "eleGSFNHitsMax             TStreamerSTL               asgenobj(STLVector(STLVector(asdtype('>i4'))))\n",
      "eleGSFVtxProb              TStreamerSTL               asgenobj(STLVector(STLVector(asdtype('>f4'))))\n",
      "eleGSFlxyPV                TStreamerSTL               asgenobj(STLVector(STLVector(asdtype('>f4'))))\n",
      "eleGSFlxyBS                TStreamerSTL               asgenobj(STLVector(STLVector(asdtype('>f4'))))\n",
      "eleBCEn                    TStreamerSTL               asgenobj(STLVector(STLVector(asdtype('>f4'))))\n",
      "eleBCEta                   TStreamerSTL               asgenobj(STLVector(STLVector(asdtype('>f4'))))\n",
      "eleBCPhi                   TStreamerSTL               asgenobj(STLVector(STLVector(asdtype('>f4'))))\n",
      "eleBCS25                   TStreamerSTL               asgenobj(STLVector(STLVector(asdtype('>f4'))))\n",
      "eleBCS15                   TStreamerSTL               asgenobj(STLVector(STLVector(asdtype('>f4'))))\n",
      "eleBCSieie                 TStreamerSTL               asgenobj(STLVector(STLVector(asdtype('>f4'))))\n",
      "eleBCSieip                 TStreamerSTL               asgenobj(STLVector(STLVector(asdtype('>f4'))))\n",
      "eleBCSipip                 TStreamerSTL               asgenobj(STLVector(STLVector(asdtype('>f4'))))\n",
      "eleFiredSingleTrgs         (no streamer)              asjagged(asdtype('>u8'), 10)\n",
      "eleFiredDoubleTrgs         (no streamer)              asjagged(asdtype('>u8'), 10)\n",
      "eleFiredL1Trgs             (no streamer)              asjagged(asdtype('>u8'), 10)\n",
      "eleIDbit                   TStreamerSTL               asjagged(asdtype('>u2'), 10)\n",
      "eleScale_stat_up           TStreamerSTL               asjagged(asdtype('>f4'), 10)\n",
      "eleScale_stat_dn           TStreamerSTL               asjagged(asdtype('>f4'), 10)\n",
      "eleScale_syst_up           TStreamerSTL               asjagged(asdtype('>f4'), 10)\n",
      "eleScale_syst_dn           TStreamerSTL               asjagged(asdtype('>f4'), 10)\n",
      "eleScale_gain_up           TStreamerSTL               asjagged(asdtype('>f4'), 10)\n",
      "eleScale_gain_dn           TStreamerSTL               asjagged(asdtype('>f4'), 10)\n",
      "eleResol_rho_up            TStreamerSTL               asjagged(asdtype('>f4'), 10)\n",
      "eleResol_rho_dn            TStreamerSTL               asjagged(asdtype('>f4'), 10)\n",
      "eleResol_phi_up            TStreamerSTL               asjagged(asdtype('>f4'), 10)\n",
      "eleResol_phi_dn            TStreamerSTL               asjagged(asdtype('>f4'), 10)\n",
      "nMu                        (no streamer)              asdtype('>i4')\n",
      "muPt                       TStreamerSTL               asjagged(asdtype('>f4'), 10)\n",
      "muEn                       TStreamerSTL               asjagged(asdtype('>f4'), 10)\n",
      "muEta                      TStreamerSTL               asjagged(asdtype('>f4'), 10)\n",
      "muPhi                      TStreamerSTL               asjagged(asdtype('>f4'), 10)\n",
      "muCharge                   TStreamerSTL               asjagged(asdtype('>i4'), 10)\n",
      "muType                     TStreamerSTL               asjagged(asdtype('>i4'), 10)\n",
      "muIDbit                    TStreamerSTL               asjagged(asdtype('>u2'), 10)\n",
      "muD0                       TStreamerSTL               asjagged(asdtype('>f4'), 10)\n",
      "muDz                       TStreamerSTL               asjagged(asdtype('>f4'), 10)\n",
      "muSIP                      TStreamerSTL               asjagged(asdtype('>f4'), 10)\n",
      "muChi2NDF                  TStreamerSTL               asjagged(asdtype('>f4'), 10)\n",
      "muInnerD0                  TStreamerSTL               asjagged(asdtype('>f4'), 10)\n",
      "muInnerDz                  TStreamerSTL               asjagged(asdtype('>f4'), 10)\n",
      "muTrkLayers                TStreamerSTL               asjagged(asdtype('>i4'), 10)\n",
      "muPixelLayers              TStreamerSTL               asjagged(asdtype('>i4'), 10)\n",
      "muPixelHits                TStreamerSTL               asjagged(asdtype('>i4'), 10)\n",
      "muMuonHits                 TStreamerSTL               asjagged(asdtype('>i4'), 10)\n",
      "muStations                 TStreamerSTL               asjagged(asdtype('>i4'), 10)\n",
      "muMatches                  TStreamerSTL               asjagged(asdtype('>i4'), 10)\n",
      "muTrkQuality               TStreamerSTL               asjagged(asdtype('>i4'), 10)\n",
      "muIsoTrk                   TStreamerSTL               asjagged(asdtype('>f4'), 10)\n",
      "muPFChIso                  TStreamerSTL               asjagged(asdtype('>f4'), 10)\n",
      "muPFPhoIso                 TStreamerSTL               asjagged(asdtype('>f4'), 10)\n",
      "muPFNeuIso                 TStreamerSTL               asjagged(asdtype('>f4'), 10)\n",
      "muPFPUIso                  TStreamerSTL               asjagged(asdtype('>f4'), 10)\n",
      "muPFChIso03                TStreamerSTL               asjagged(asdtype('>f4'), 10)\n",
      "muPFPhoIso03               TStreamerSTL               asjagged(asdtype('>f4'), 10)\n",
      "muPFNeuIso03               TStreamerSTL               asjagged(asdtype('>f4'), 10)\n",
      "muPFPUIso03                TStreamerSTL               asjagged(asdtype('>f4'), 10)\n",
      "muPFMiniIso                TStreamerSTL               asjagged(asdtype('>f4'), 10)\n",
      "muFiredTrgs                (no streamer)              asjagged(asdtype('>u8'), 10)\n",
      "muFiredL1Trgs              (no streamer)              asjagged(asdtype('>u8'), 10)\n",
      "muInnervalidFraction       TStreamerSTL               asjagged(asdtype('>f4'), 10)\n",
      "musegmentCompatibility     TStreamerSTL               asjagged(asdtype('>f4'), 10)\n",
      "muchi2LocalPosition        TStreamerSTL               asjagged(asdtype('>f4'), 10)\n",
      "mutrkKink                  TStreamerSTL               asjagged(asdtype('>f4'), 10)\n",
      "muBestTrkPtError           TStreamerSTL               asjagged(asdtype('>f4'), 10)\n",
      "muBestTrkPt                TStreamerSTL               asjagged(asdtype('>f4'), 10)\n",
      "muBestTrkType              TStreamerSTL               asjagged(asdtype('>i4'), 10)\n",
      "npfPho                     (no streamer)              asdtype('>i4')\n",
      "pfphoEt                    TStreamerSTL               asjagged(asdtype('>f4'), 10)\n",
      "pfphoEta                   TStreamerSTL               asjagged(asdtype('>f4'), 10)\n",
      "pfphoPhi                   TStreamerSTL               asjagged(asdtype('>f4'), 10)\n",
      "npfHF                      (no streamer)              asdtype('>i4')\n",
      "pfHFEn                     TStreamerSTL               asjagged(asdtype('>f4'), 10)\n",
      "pfHFECALEn                 TStreamerSTL               asjagged(asdtype('>f4'), 10)\n",
      "pfHFHCALEn                 TStreamerSTL               asjagged(asdtype('>f4'), 10)\n",
      "pfHFPt                     TStreamerSTL               asjagged(asdtype('>f4'), 10)\n",
      "pfHFEta                    TStreamerSTL               asjagged(asdtype('>f4'), 10)\n",
      "pfHFPhi                    TStreamerSTL               asjagged(asdtype('>f4'), 10)\n",
      "pfHFIso                    TStreamerSTL               asjagged(asdtype('>f4'), 10)\n",
      "nTau                       (no streamer)              asdtype('>i4')\n",
      "taupfTausDiscriminationByDecayModeFinding\n",
      "                           TStreamerSTL               asjagged(asdtype('int8'), 10)\n",
      "taupfTausDiscriminationByDecayModeFindingNewDMs\n",
      "                           TStreamerSTL               asjagged(asdtype('int8'), 10)\n",
      "tauByMVA6VLooseElectronRejection\n",
      "                           TStreamerSTL               asjagged(asdtype('int8'), 10)\n",
      "tauByMVA6LooseElectronRejection\n",
      "                           TStreamerSTL               asjagged(asdtype('int8'), 10)\n",
      "tauByMVA6MediumElectronRejection\n",
      "                           TStreamerSTL               asjagged(asdtype('int8'), 10)\n",
      "tauByMVA6TightElectronRejection\n",
      "                           TStreamerSTL               asjagged(asdtype('int8'), 10)\n",
      "tauByMVA6VTightElectronRejection\n",
      "                           TStreamerSTL               asjagged(asdtype('int8'), 10)\n",
      "tauByLooseMuonRejection3   TStreamerSTL               asjagged(asdtype('int8'), 10)\n",
      "tauByTightMuonRejection3   TStreamerSTL               asjagged(asdtype('int8'), 10)\n",
      "tauByLooseCombinedIsolationDeltaBetaCorr3Hits\n",
      "                           TStreamerSTL               asjagged(asdtype('int8'), 10)\n",
      "tauByMediumCombinedIsolationDeltaBetaCorr3Hits\n",
      "                           TStreamerSTL               asjagged(asdtype('int8'), 10)\n",
      "tauByTightCombinedIsolationDeltaBetaCorr3Hits\n",
      "                           TStreamerSTL               asjagged(asdtype('int8'), 10)\n",
      "tauCombinedIsolationDeltaBetaCorrRaw3Hits\n",
      "                           TStreamerSTL               asjagged(asdtype('>f4'), 10)\n",
      "tauByIsolationMVArun2v1DBnewDMwLTraw\n",
      "                           TStreamerSTL               asjagged(asdtype('>f4'), 10)\n",
      "tauByIsolationMVArun2v1DBoldDMwLTraw\n",
      "                           TStreamerSTL               asjagged(asdtype('>f4'), 10)\n",
      "tauByIsolationMVArun2v1PWnewDMwLTraw\n",
      "                           TStreamerSTL               asjagged(asdtype('>f4'), 10)\n",
      "tauByIsolationMVArun2v1PWoldDMwLTraw\n",
      "                           TStreamerSTL               asjagged(asdtype('>f4'), 10)\n",
      "tauByVTightIsolationMVArun2v1DBnewDMwLT\n",
      "                           TStreamerSTL               asjagged(asdtype('int8'), 10)\n",
      "tauByVTightIsolationMVArun2v1DBoldDMwLT\n",
      "                           TStreamerSTL               asjagged(asdtype('int8'), 10)\n",
      "tauByVTightIsolationMVArun2v1PWnewDMwLT\n",
      "                           TStreamerSTL               asjagged(asdtype('int8'), 10)\n",
      "tauByVTightIsolationMVArun2v1PWoldDMwLT\n",
      "                           TStreamerSTL               asjagged(asdtype('int8'), 10)\n",
      "tauByTightIsolationMVArun2v1DBnewDMwLT\n",
      "                           TStreamerSTL               asjagged(asdtype('int8'), 10)\n",
      "tauByTightIsolationMVArun2v1DBoldDMwLT\n",
      "                           TStreamerSTL               asjagged(asdtype('int8'), 10)\n",
      "tauByTightIsolationMVArun2v1PWnewDMwLT\n",
      "                           TStreamerSTL               asjagged(asdtype('int8'), 10)\n",
      "tauByTightIsolationMVArun2v1PWoldDMwLT\n",
      "                           TStreamerSTL               asjagged(asdtype('int8'), 10)\n",
      "tauByMediumIsolationMVArun2v1DBnewDMwLT\n",
      "                           TStreamerSTL               asjagged(asdtype('int8'), 10)\n",
      "tauByMediumIsolationMVArun2v1DBoldDMwLT\n",
      "                           TStreamerSTL               asjagged(asdtype('int8'), 10)\n",
      "tauByMediumIsolationMVArun2v1PWnewDMwLT\n",
      "                           TStreamerSTL               asjagged(asdtype('int8'), 10)\n",
      "tauByMediumIsolationMVArun2v1PWoldDMwLT\n",
      "                           TStreamerSTL               asjagged(asdtype('int8'), 10)\n",
      "tauByLooseIsolationMVArun2v1DBnewDMwLT\n",
      "                           TStreamerSTL               asjagged(asdtype('int8'), 10)\n",
      "tauByLooseIsolationMVArun2v1DBoldDMwLT\n",
      "                           TStreamerSTL               asjagged(asdtype('int8'), 10)\n",
      "tauByLooseIsolationMVArun2v1PWnewDMwLT\n",
      "                           TStreamerSTL               asjagged(asdtype('int8'), 10)\n",
      "tauByLooseIsolationMVArun2v1PWoldDMwLT\n",
      "                           TStreamerSTL               asjagged(asdtype('int8'), 10)\n",
      "tauByVLooseIsolationMVArun2v1DBnewDMwLT\n",
      "                           TStreamerSTL               asjagged(asdtype('int8'), 10)\n",
      "tauByVLooseIsolationMVArun2v1DBoldDMwLT\n",
      "                           TStreamerSTL               asjagged(asdtype('int8'), 10)\n",
      "tauByVLooseIsolationMVArun2v1PWnewDMwLT\n",
      "                           TStreamerSTL               asjagged(asdtype('int8'), 10)\n",
      "tauByVLooseIsolationMVArun2v1PWoldDMwLT\n",
      "                           TStreamerSTL               asjagged(asdtype('int8'), 10)\n",
      "tauEta                     TStreamerSTL               asjagged(asdtype('>f4'), 10)\n",
      "tauPhi                     TStreamerSTL               asjagged(asdtype('>f4'), 10)\n",
      "tauPt                      TStreamerSTL               asjagged(asdtype('>f4'), 10)\n",
      "tauEt                      TStreamerSTL               asjagged(asdtype('>f4'), 10)\n",
      "tauCharge                  TStreamerSTL               asjagged(asdtype('>f4'), 10)\n",
      "tauP                       TStreamerSTL               asjagged(asdtype('>f4'), 10)\n",
      "tauPx                      TStreamerSTL               asjagged(asdtype('>f4'), 10)\n",
      "tauPy                      TStreamerSTL               asjagged(asdtype('>f4'), 10)\n",
      "tauPz                      TStreamerSTL               asjagged(asdtype('>f4'), 10)\n",
      "tauVz                      TStreamerSTL               asjagged(asdtype('>f4'), 10)\n",
      "tauEnergy                  TStreamerSTL               asjagged(asdtype('>f4'), 10)\n",
      "tauMass                    TStreamerSTL               asjagged(asdtype('>f4'), 10)\n",
      "tauDxy                     TStreamerSTL               asjagged(asdtype('>f4'), 10)\n",
      "tauZImpact                 TStreamerSTL               asjagged(asdtype('>f4'), 10)\n",
      "tauDecayMode               TStreamerSTL               asjagged(asdtype('>i4'), 10)\n",
      "tauLeadChargedHadronExists TStreamerSTL               asjagged(asdtype('int8'), 10)\n",
      "tauLeadChargedHadronEta    TStreamerSTL               asjagged(asdtype('>f4'), 10)\n",
      "tauLeadChargedHadronPhi    TStreamerSTL               asjagged(asdtype('>f4'), 10)\n",
      "tauLeadChargedHadronPt     TStreamerSTL               asjagged(asdtype('>f4'), 10)\n",
      "tauChargedIsoPtSum         TStreamerSTL               asjagged(asdtype('>f4'), 10)\n",
      "tauNeutralIsoPtSum         TStreamerSTL               asjagged(asdtype('>f4'), 10)\n",
      "tauPuCorrPtSum             TStreamerSTL               asjagged(asdtype('>f4'), 10)\n",
      "tauNumSignalPFChargedHadrCands\n",
      "                           TStreamerSTL               asjagged(asdtype('>i4'), 10)\n",
      "tauNumSignalPFNeutrHadrCands\n",
      "                           TStreamerSTL               asjagged(asdtype('>i4'), 10)\n",
      "tauNumSignalPFGammaCands   TStreamerSTL               asjagged(asdtype('>i4'), 10)\n",
      "tauNumSignalPFCands        TStreamerSTL               asjagged(asdtype('>i4'), 10)\n",
      "tauNumIsolationPFChargedHadrCands\n",
      "                           TStreamerSTL               asjagged(asdtype('>i4'), 10)\n",
      "tauNumIsolationPFNeutrHadrCands\n",
      "                           TStreamerSTL               asjagged(asdtype('>i4'), 10)\n",
      "tauNumIsolationPFGammaCands\n",
      "                           TStreamerSTL               asjagged(asdtype('>i4'), 10)\n",
      "tauNumIsolationPFCands     TStreamerSTL               asjagged(asdtype('>i4'), 10)\n",
      "taufootprintCorrection     TStreamerSTL               asjagged(asdtype('>f4'), 10)\n",
      "tauphotonPtSumOutsideSignalCone\n",
      "                           TStreamerSTL               asjagged(asdtype('>f4'), 10)\n",
      "taudz                      TStreamerSTL               asjagged(asdtype('>f4'), 10)\n",
      "taudxy                     TStreamerSTL               asjagged(asdtype('>f4'), 10)\n",
      "nJet                       (no streamer)              asdtype('>i4')\n",
      "jetetaWidth                TStreamerSTL               asjagged(asdtype('>f8'), 10)\n",
      "jetphiWidth                TStreamerSTL               asjagged(asdtype('>f8'), 10)\n",
      "jetnPhotons                TStreamerSTL               asjagged(asdtype('>f8'), 10)\n",
      "jetnCHPions                TStreamerSTL               asjagged(asdtype('>f8'), 10)\n",
      "jetnMisc                   TStreamerSTL               asjagged(asdtype('>f8'), 10)\n",
      "jetMiscPID                 TStreamerSTL               asgenobj(STLVector(STLVector(asdtype('>i4'))))\n",
      "JetsPFConsPt               TStreamerSTL               asgenobj(STLVector(STLVector(asdtype('>f8'))))\n",
      "JetsPFConsEta              TStreamerSTL               asgenobj(STLVector(STLVector(asdtype('>f8'))))\n",
      "JetsPFConsPhi              TStreamerSTL               asgenobj(STLVector(STLVector(asdtype('>f8'))))\n",
      "JetsPFConsEt               TStreamerSTL               asgenobj(STLVector(STLVector(asdtype('>f8'))))\n",
      "JetsPFConsPID              TStreamerSTL               asgenobj(STLVector(STLVector(asdtype('>i4'))))\n",
      "jetPt                      TStreamerSTL               asjagged(asdtype('>f4'), 10)\n",
      "jetEn                      TStreamerSTL               asjagged(asdtype('>f4'), 10)\n",
      "jetEta                     TStreamerSTL               asjagged(asdtype('>f4'), 10)\n",
      "jetPhi                     TStreamerSTL               asjagged(asdtype('>f4'), 10)\n",
      "jetRawPt                   TStreamerSTL               asjagged(asdtype('>f4'), 10)\n",
      "jetRawEn                   TStreamerSTL               asjagged(asdtype('>f4'), 10)\n",
      "jetMt                      TStreamerSTL               asjagged(asdtype('>f4'), 10)\n",
      "jetArea                    TStreamerSTL               asjagged(asdtype('>f4'), 10)\n",
      "jetLeadTrackPt             TStreamerSTL               asjagged(asdtype('>f4'), 10)\n",
      "jetLeadTrackEta            TStreamerSTL               asjagged(asdtype('>f4'), 10)\n",
      "jetLeadTrackPhi            TStreamerSTL               asjagged(asdtype('>f4'), 10)\n",
      "jetLepTrackPID             TStreamerSTL               asjagged(asdtype('>i4'), 10)\n",
      "jetLepTrackPt              TStreamerSTL               asjagged(asdtype('>f4'), 10)\n",
      "jetLepTrackEta             TStreamerSTL               asjagged(asdtype('>f4'), 10)\n",
      "jetLepTrackPhi             TStreamerSTL               asjagged(asdtype('>f4'), 10)\n",
      "jetCSV2BJetTags            TStreamerSTL               asjagged(asdtype('>f4'), 10)\n",
      "jetJetProbabilityBJetTags  TStreamerSTL               asjagged(asdtype('>f4'), 10)\n",
      "jetpfCombinedMVAV2BJetTags TStreamerSTL               asjagged(asdtype('>f4'), 10)\n",
      "jetDeepCSVTags_b           TStreamerSTL               asjagged(asdtype('>f4'), 10)\n",
      "jetDeepCSVTags_bb          TStreamerSTL               asjagged(asdtype('>f4'), 10)\n",
      "jetDeepCSVTags_c           TStreamerSTL               asjagged(asdtype('>f4'), 10)\n",
      "jetDeepCSVTags_cc          TStreamerSTL               asjagged(asdtype('>f4'), 10)\n",
      "jetDeepCSVTags_udsg        TStreamerSTL               asjagged(asdtype('>f4'), 10)\n",
      "jetPartonID                TStreamerSTL               asjagged(asdtype('>i4'), 10)\n",
      "jetHadFlvr                 TStreamerSTL               asjagged(asdtype('>i4'), 10)\n",
      "jetGenJetEn                TStreamerSTL               asjagged(asdtype('>f4'), 10)\n",
      "jetGenJetPt                TStreamerSTL               asjagged(asdtype('>f4'), 10)\n",
      "jetGenJetEta               TStreamerSTL               asjagged(asdtype('>f4'), 10)\n",
      "jetGenJetPhi               TStreamerSTL               asjagged(asdtype('>f4'), 10)\n",
      "jetGenPartonID             TStreamerSTL               asjagged(asdtype('>i4'), 10)\n",
      "jetGenEn                   TStreamerSTL               asjagged(asdtype('>f4'), 10)\n",
      "jetGenPt                   TStreamerSTL               asjagged(asdtype('>f4'), 10)\n",
      "jetGenEta                  TStreamerSTL               asjagged(asdtype('>f4'), 10)\n",
      "jetGenPhi                  TStreamerSTL               asjagged(asdtype('>f4'), 10)\n",
      "jetGenPartonMomID          TStreamerSTL               asjagged(asdtype('>i4'), 10)\n",
      "jetP4Smear                 TStreamerSTL               asjagged(asdtype('>f4'), 10)\n",
      "jetP4SmearUp               TStreamerSTL               asjagged(asdtype('>f4'), 10)\n",
      "jetP4SmearDo               TStreamerSTL               asjagged(asdtype('>f4'), 10)\n",
      "jetPFLooseId               TStreamerSTL               asjagged(asdtype('int8'), 10)\n",
      "jetID                      TStreamerSTL               asjagged(asdtype('>i4'), 10)\n",
      "jetPUID                    TStreamerSTL               asjagged(asdtype('>f4'), 10)\n",
      "jetPUFullID                TStreamerSTL               asjagged(asdtype('>i4'), 10)\n",
      "jetJECUnc                  TStreamerSTL               asjagged(asdtype('>f4'), 10)\n",
      "jetFiredTrgs               (no streamer)              asjagged(asdtype('>u8'), 10)\n",
      "jetCHF                     TStreamerSTL               asjagged(asdtype('>f4'), 10)\n",
      "jetNHF                     TStreamerSTL               asjagged(asdtype('>f4'), 10)\n",
      "jetCEF                     TStreamerSTL               asjagged(asdtype('>f4'), 10)\n",
      "jetNEF                     TStreamerSTL               asjagged(asdtype('>f4'), 10)\n",
      "jetNCH                     TStreamerSTL               asjagged(asdtype('>i4'), 10)\n",
      "jetNNP                     TStreamerSTL               asjagged(asdtype('>i4'), 10)\n",
      "jetMUF                     TStreamerSTL               asjagged(asdtype('>f4'), 10)\n",
      "jetVtxPt                   TStreamerSTL               asjagged(asdtype('>f4'), 10)\n",
      "jetVtxMass                 TStreamerSTL               asjagged(asdtype('>f4'), 10)\n",
      "jetVtxNtrks                TStreamerSTL               asjagged(asdtype('>f4'), 10)\n",
      "jetVtx3DVal                TStreamerSTL               asjagged(asdtype('>f4'), 10)\n",
      "jetVtx3DSig                TStreamerSTL               asjagged(asdtype('>f4'), 10)\n"
     ]
    }
   ],
   "source": [
    "#the easiest way to browse a TTree is by calling \n",
    "#its show() method, which prints the branches and their interpretations as arrays.\n",
    "\n",
    "#For this demo, we will only focus on one important \"distinguishing feature\" but there is a lot more physics \n",
    "#information available!\n",
    "events = EventTree[b'ggNtuplizer/EventTree;1']\n",
    "events.show()"
   ]
  },
  {
   "cell_type": "code",
   "execution_count": 12,
   "metadata": {},
   "outputs": [
    {
     "data": {
      "text/plain": [
       "(b'EventTree', b'Event data (tag V08_00_26_06)', 500)"
      ]
     },
     "execution_count": 12,
     "metadata": {},
     "output_type": "execute_result"
    }
   ],
   "source": [
    "events.name, events.title, events.numentries"
   ]
  },
  {
   "cell_type": "code",
   "execution_count": 26,
   "metadata": {},
   "outputs": [
    {
     "data": {
      "text/plain": [
       "(<JaggedArray [[0.02839153110491577 0.12647001606871283] [0.04435377465183632 0.09689661339296855 0.07412286023381369 0.10217255835725403] [0.03807543641226724] ... [0.034202589046074754 0.06386222656449118 0.1555554350814089 0.15723813912916004] [0.04267339766540858 0.17470932580742443] [0.034037611388811 0.14763384706903548 0.186483365760508 ... 0.20881514561741718 0.18050058883974143 0.13833364098757314]] at 0x00010bd38550>,\n",
       " 500)"
      ]
     },
     "execution_count": 26,
     "metadata": {},
     "output_type": "execute_result"
    }
   ],
   "source": [
    "jetetaWidth = events.array(\"jetetaWidth\")\n",
    "jetetaWidth, len(jetetaWidth)"
   ]
  },
  {
   "cell_type": "markdown",
   "metadata": {},
   "source": [
    "**Gosh, what is a \"JaggedArray\" you ask?**\n",
    "\n",
    "In physics data, very common to have an arbitrary number of values per event than a fixed number of values per event. For instance,\n",
    "- Some events will not have a \"good quality\" Jet \n",
    "\n",
    "Unlike fixed-width arrays and a fixed number of fields per element, Numpy has no analogue for this type. For this, uproot fills a new JaggedArray data structure"
   ]
  },
  {
   "cell_type": "code",
   "execution_count": 111,
   "metadata": {},
   "outputs": [
    {
     "name": "stdout",
     "output_type": "stream",
     "text": [
      "380\n"
     ]
    }
   ],
   "source": [
    "#good events are those that have a \"Good Quality Jet\"\n",
    "goodEvents = (jetetaWidth[jetetaWidth.counts>1,0])\n",
    "print(len(goodEvents))"
   ]
  },
  {
   "cell_type": "code",
   "execution_count": 112,
   "metadata": {},
   "outputs": [
    {
     "data": {
      "text/plain": [
       "(<JaggedArray [[312.14008 49.32167] [257.03836 117.6442 49.022663 42.8722] [282.67545] ... [276.55554 97.271706 43.804375 20.490173] [411.52444 23.596752] [285.71173 61.455017 32.396637 ... 21.566664 21.098133 21.075525]] at 0x0001134ca828>,\n",
       " 500)"
      ]
     },
     "execution_count": 112,
     "metadata": {},
     "output_type": "execute_result"
    }
   ],
   "source": [
    "jetPt = events.array(\"jetPt\")\n",
    "jetPt,len(jetPt)"
   ]
  },
  {
   "cell_type": "code",
   "execution_count": 113,
   "metadata": {},
   "outputs": [],
   "source": [
    "import matplotlib.pyplot as plt\n"
   ]
  },
  {
   "cell_type": "code",
   "execution_count": 114,
   "metadata": {},
   "outputs": [
    {
     "data": {
      "text/plain": [
       "<matplotlib.legend.Legend at 0x1134a22b0>"
      ]
     },
     "execution_count": 114,
     "metadata": {},
     "output_type": "execute_result"
    },
    {
     "data": {
      "image/png": "[encoded data removed]",
      "text/plain": [
       "<Figure size 432x288 with 1 Axes>"
      ]
     },
     "metadata": {
      "needs_background": "light"
     },
     "output_type": "display_data"
    }
   ],
   "source": [
    "plt.xlabel(\"Jet eta Width\");\n",
    "plt.ylabel(\"events per bin\");\n",
    "plt.hist(goodEvents,histtype='step',alpha=0.5,label='Pencil Jet')\n",
    "plt.legend()"
   ]
  },
  {
   "cell_type": "code",
   "execution_count": 118,
   "metadata": {},
   "outputs": [
    {
     "data": {
      "text/plain": [
       "3500"
      ]
     },
     "execution_count": 118,
     "metadata": {},
     "output_type": "execute_result"
    }
   ],
   "source": [
    "#Lazy array of many signal files!\n",
    "signal = uproot.lazyarray( [\"MonoZprime_Mx10_Mv1000-%s.root\" % x\n",
    "        for x in [\"0030\",\"0040\",\"0050\",\"0060\",\"0070\",\"0080\",\"0090\"]],\n",
    "    # TTree name in each file\n",
    "    \"ggNtuplizer/EventTree;1\",\n",
    "    # branch(s) in each file for lazyarray(s)\n",
    "    \"jetetaWidth\")\n",
    "len(signal)"
   ]
  },
  {
   "cell_type": "code",
   "execution_count": 119,
   "metadata": {},
   "outputs": [
    {
     "data": {
      "text/plain": [
       "2643"
      ]
     },
     "execution_count": 119,
     "metadata": {},
     "output_type": "execute_result"
    }
   ],
   "source": [
    "#Signal events with a jet candidate with momentum (pt > 20 GeV)\n",
    "#https://github.com/uhussain/ggAnalysis/blob/master/ggNtuplizer/plugins/ggNtuplizer_jets.cc#L556\n",
    "GoodSignal = (signal[signal.counts>1,0])\n",
    "len(GoodSignal)"
   ]
  },
  {
   "cell_type": "code",
   "execution_count": 120,
   "metadata": {},
   "outputs": [
    {
     "data": {
      "text/plain": [
       "<matplotlib.legend.Legend at 0x111f8c080>"
      ]
     },
     "execution_count": 120,
     "metadata": {},
     "output_type": "execute_result"
    },
    {
     "data": {
      "image/png": "[encoded data removed]",
      "text/plain": [
       "<Figure size 432x288 with 1 Axes>"
      ]
     },
     "metadata": {
      "needs_background": "light"
     },
     "output_type": "display_data"
    }
   ],
   "source": [
    "#Plotting the same variable as above but with higher statistics\n",
    "plt.xlabel(\"Jet eta Width\");\n",
    "plt.ylabel(\"events per bin\");\n",
    "plt.hist(GoodSignal,histtype='step',alpha=0.5,label='Pencil Jet')\n",
    "plt.legend()"
   ]
  },
  {
   "cell_type": "code",
   "execution_count": null,
   "metadata": {},
   "outputs": [],
   "source": []
  }
 ],
 "metadata": {
  "kernelspec": {
   "display_name": "Python 3",
   "language": "python",
   "name": "python3"
  },
  "language_info": {
   "codemirror_mode": {
    "name": "ipython",
    "version": 3
   },
   "file_extension": ".py",
   "mimetype": "text/x-python",
   "name": "python",
   "nbconvert_exporter": "python",
   "pygments_lexer": "ipython3",
   "version": "3.7.2"
  }
 },
 "nbformat": 4,
 "nbformat_minor": 2
}
