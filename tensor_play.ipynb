{
 "cells": [
  {
   "cell_type": "code",
   "execution_count": 48,
   "metadata": {},
   "outputs": [
    {
     "name": "stdout",
     "output_type": "stream",
     "text": [
      "primes:  Tensor(\"Const_38:0\", shape=(6,), dtype=int32)\n",
      "primes:  [ 2  3  5  7 11 13]\n",
      "\n",
      "ones :  Tensor(\"ones_17:0\", shape=(6,), dtype=int32)\n",
      "ones :  [1 1 1 1 1 1]\n",
      "\n",
      "\n",
      "just_beyond_primes: Tensor(\"Add_15:0\", shape=(6,), dtype=int32)\n",
      "just_beyond_primes: [ 3  4  6  8 12 14]\n",
      "\n",
      "primes_doubled: Tensor(\"mul_14:0\", shape=(6,), dtype=int32)\n",
      "primes_doubled: [ 4  6 10 14 22 26]\n"
     ]
    }
   ],
   "source": [
    "primes=tf.constant([2, 3, 5, 7, 11, 13], dtype=tf.int32)\n",
    "print (\"primes: \", primes)\n",
    "print (\"primes: \", primes.eval())\n",
    "print('')\n",
    "ones = tf.ones([6], dtype=tf.int32)\n",
    "print (\"ones : \", ones)\n",
    "print (\"ones : \", ones.eval())\n",
    "print('\\n')\n",
    "just_beyond_primes = tf.add(primes, ones)\n",
    "print (\"just_beyond_primes:\", just_beyond_primes)\n",
    "print (\"just_beyond_primes:\", just_beyond_primes.eval())\n",
    "print('')\n",
    "twos = tf.constant([2, 2, 2, 2, 2, 2], dtype=tf.int32)\n",
    "primes_doubled = primes * twos\n",
    "print (\"primes_doubled:\", primes_doubled)\n",
    "print (\"primes_doubled:\", primes_doubled.eval())"
   ]
  },
  {
   "cell_type": "code",
   "execution_count": 26,
   "metadata": {},
   "outputs": [
    {
     "name": "stdout",
     "output_type": "stream",
     "text": [
      "<class 'numpy.ndarray'>\n",
      "\n",
      "value of some_matrix is:\n",
      " [[1 2 3]\n",
      " [4 5 6]]\n"
     ]
    }
   ],
   "source": [
    "sess = tf.InteractiveSession()\n",
    "some_matrix = tf.constant([[1, 2, 3], [4, 5, 6]], dtype=tf.int32)\n",
    "print(type(some_matrix.eval()))\n",
    "print (\"\\nvalue of some_matrix is:\\n\", some_matrix.eval())"
   ]
  },
  {
   "cell_type": "code",
   "execution_count": 27,
   "metadata": {},
   "outputs": [
    {
     "data": {
      "text/plain": [
       "TensorShape([Dimension(2), Dimension(3)])"
      ]
     },
     "execution_count": 27,
     "metadata": {},
     "output_type": "execute_result"
    }
   ],
   "source": [
    "some_matrix.get_shape()"
   ]
  },
  {
   "cell_type": "code",
   "execution_count": 33,
   "metadata": {},
   "outputs": [
    {
     "name": "stdout",
     "output_type": "stream",
     "text": [
      "<tensorflow.python.framework.ops.Graph object at 0x119b72e10>\n"
     ]
    }
   ],
   "source": [
    "print(some_matrix.graph)"
   ]
  },
  {
   "cell_type": "code",
   "execution_count": 35,
   "metadata": {},
   "outputs": [
    {
     "name": "stdout",
     "output_type": "stream",
     "text": [
      "scalar has shape () and value:\n",
      " 0.0\n",
      "vector has shape (3,) and value:\n",
      " [0. 0. 0.]\n",
      "matrix has shape (2, 3) and value:\n",
      " [[0. 0. 0.]\n",
      " [0. 0. 0.]]\n"
     ]
    }
   ],
   "source": [
    "# A scalar (0-D tensor).\n",
    "scalar = tf.zeros([])\n",
    "\n",
    "# A vector with 3 elements.\n",
    "vector = tf.zeros([3])\n",
    "\n",
    "# A matrix with 2 rows and 3 columns.\n",
    "matrix = tf.zeros([2, 3])\n",
    "\n",
    "print ('scalar has shape', scalar.get_shape(), 'and value:\\n', scalar.eval())\n",
    "print ('vector has shape', vector.get_shape(), 'and value:\\n', vector.eval())\n",
    "print ('matrix has shape', matrix.get_shape(), 'and value:\\n', matrix.eval())"
   ]
  },
  {
   "cell_type": "markdown",
   "metadata": {},
   "source": [
    "Broadcasting\n",
    "In mathematics, you can only perform element-wise operations (e.g. add and equals) on tensors of the same shape. In TensorFlow, however, you may perform operations on tensors that would traditionally have been incompatible. TensorFlow supports broadcasting (a concept borrowed from numpy), where the smaller array in an element-wise operation is enlarged to have the same shape as the larger array.\n",
    "\n",
    "NOTE: When a tensor is broadcast, its entries are conceptually copied. (They are not actually copied for performance reasons. Broadcasting was invented as a performance optimization.)\n",
    "The full broadcasting ruleset is well described in the easy-to-read numpy broadcasting documentation.\n",
    "The following code performs the same tensor arithmetic as before, but instead uses scalar values (instead of vectors containing all 1s or all 2s) and broadcasting."
   ]
  },
  {
   "cell_type": "code",
   "execution_count": 50,
   "metadata": {},
   "outputs": [
    {
     "name": "stdout",
     "output_type": "stream",
     "text": [
      "primes: Tensor(\"Const_40:0\", shape=(6,), dtype=int32)\n",
      "primes: [ 2  3  5  7 11 13]\n",
      "\n",
      "one: Tensor(\"Const_41:0\", shape=(), dtype=int32)\n",
      "ones :  [1 1 1 1 1 1]\n",
      "\n",
      "just_beyond_primes: Tensor(\"Add_16:0\", shape=(6,), dtype=int32)\n",
      "just_beyond_primes: [ 3  4  6  8 12 14]\n",
      "\n",
      "primes_doubled: Tensor(\"mul_15:0\", shape=(6,), dtype=int32)\n",
      "primes_doubled: [ 4  6 10 14 22 26]\n"
     ]
    }
   ],
   "source": [
    "primes = tf.constant([2, 3, 5, 7, 11, 13], dtype=tf.int32)\n",
    "print (\"primes:\", primes)\n",
    "print (\"primes:\", primes.eval())\n",
    "print('')\n",
    "one = tf.constant(1, dtype=tf.int32)\n",
    "print (\"one:\", one)\n",
    "print (\"ones : \", ones.eval())\n",
    "print('')\n",
    "\n",
    "just_beyond_primes = tf.add(primes, one)\n",
    "print (\"just_beyond_primes:\", just_beyond_primes)\n",
    "print (\"just_beyond_primes:\", just_beyond_primes.eval())\n",
    "print('')\n",
    "two = tf.constant(2, dtype=tf.int32)\n",
    "primes_doubled = primes * two\n",
    "print (\"primes_doubled:\", primes_doubled)\n",
    "print (\"primes_doubled:\", primes_doubled.eval())\n"
   ]
  },
  {
   "cell_type": "markdown",
   "metadata": {},
   "source": [
    "Exercise #1: Arithmetic over vectors.\n",
    "Perform vector arithmetic to create a \"just_under_primes_squared\" vector, where the ith element is equal to the ith element in primes squared, minus 1. For example, the second element would be equal to 3 * 3 - 1 = 8.\n",
    "Make use of either the tf.multiply or tf.pow ops to square the value of each element in the primes vector."
   ]
  },
  {
   "cell_type": "code",
   "execution_count": 52,
   "metadata": {},
   "outputs": [
    {
     "name": "stdout",
     "output_type": "stream",
     "text": [
      "just_under_primes_squared:  Tensor(\"Sub:0\", shape=(6,), dtype=int32)\n",
      "just_under_primes_squared:  [  3   8  24  48 120 168]\n"
     ]
    }
   ],
   "source": [
    "primes_squared=tf.pow(primes,2)\n",
    "just_under_primes_squared=tf.subtract(primes_squared,one)\n",
    "print (\"just_under_primes_squared: \", just_under_primes_squared)\n",
    "print (\"just_under_primes_squared: \", just_under_primes_squared.eval())"
   ]
  },
  {
   "cell_type": "code",
   "execution_count": 65,
   "metadata": {},
   "outputs": [
    {
     "name": "stdout",
     "output_type": "stream",
     "text": [
      "x:  [[ 5  2  4  3]\n",
      " [ 5  1  6 -2]\n",
      " [-1  3 -1 -2]]\n",
      "\n",
      "y:  [[2 2]\n",
      " [3 5]\n",
      " [4 5]\n",
      " [1 6]]\n",
      "matrix_multiply_result:  [[35 58]\n",
      " [35 33]\n",
      " [ 1 -4]]\n"
     ]
    }
   ],
   "source": [
    "# A 3x4 matrix (2-d tensor).\n",
    "x = tf.constant([[5, 2, 4, 3], [5, 1, 6, -2], [-1, 3, -1, -2]],\n",
    "                dtype=tf.int32)\n",
    "print(\"x: \", x.eval())\n",
    "print('')\n",
    "# A 4x2 matrix (2-d tensor).\n",
    "y = tf.constant([[2, 2], [3, 5], [4, 5], [1, 6]], dtype=tf.int32)\n",
    "print (\"y: \", y.eval())\n",
    "# Multiply `x` by `y`; result is 3x2 matrix.\n",
    "matrix_multiply_result = tf.matmul(x, y)\n",
    "\n",
    "print ('matrix_multiply_result: ',matrix_multiply_result.eval())"
   ]
  },
  {
   "cell_type": "markdown",
   "metadata": {},
   "source": [
    "Tensor Reshaping\n",
    "With tensor addition and matrix multiplication each imposing constraints on operands, TensorFlow programmers must frequently reshape tensors.\n",
    "You can use the tf.reshape method to reshape a tensor. For example, you can reshape a 8x2 tensor into a 2x8 tensor or a 4x4 tensor:"
   ]
  },
  {
   "cell_type": "code",
   "execution_count": 68,
   "metadata": {},
   "outputs": [
    {
     "name": "stdout",
     "output_type": "stream",
     "text": [
      "Original matrix (8x2):\n",
      "[[ 1  2]\n",
      " [ 3  4]\n",
      " [ 5  6]\n",
      " [ 7  8]\n",
      " [ 9 10]\n",
      " [11 12]\n",
      " [13 14]\n",
      " [15 16]]\n",
      "Reshaped matrix (2x8):\n",
      "[[ 1  2  3  4  5  6  7  8]\n",
      " [ 9 10 11 12 13 14 15 16]]\n",
      "Reshaped matrix (4x4):\n",
      "[[ 1  2  3  4]\n",
      " [ 5  6  7  8]\n",
      " [ 9 10 11 12]\n",
      " [13 14 15 16]]\n"
     ]
    }
   ],
   "source": [
    "# Create an 8x2 matrix (2-D tensor).\n",
    "matrix = tf.constant(\n",
    "    [[1, 2], [3, 4], [5, 6], [7, 8], [9, 10], [11, 12], [13, 14], [15, 16]],\n",
    "    dtype=tf.int32)\n",
    "\n",
    "reshaped_2x8_matrix = tf.reshape(matrix, [2, 8])\n",
    "reshaped_4x4_matrix = tf.reshape(matrix, [4, 4])\n",
    "\n",
    "print (\"Original matrix (8x2):\")\n",
    "print (matrix.eval())\n",
    "print (\"Reshaped matrix (2x8):\")\n",
    "print (reshaped_2x8_matrix.eval())\n",
    "print (\"Reshaped matrix (4x4):\")\n",
    "print (reshaped_4x4_matrix.eval())"
   ]
  },
  {
   "cell_type": "markdown",
   "metadata": {},
   "source": [
    "You can also use tf.reshape to change the number of dimensions (the \"rank\") of the tensor. For example, you could reshape that 8x2 tensor into a 3-D 2x2x4 tensor or a 1-D 16-element tensor."
   ]
  },
  {
   "cell_type": "code",
   "execution_count": 69,
   "metadata": {},
   "outputs": [
    {
     "name": "stdout",
     "output_type": "stream",
     "text": [
      "Original matrix (8x2):\n",
      "[[ 1  2]\n",
      " [ 3  4]\n",
      " [ 5  6]\n",
      " [ 7  8]\n",
      " [ 9 10]\n",
      " [11 12]\n",
      " [13 14]\n",
      " [15 16]]\n",
      "Reshaped matrix (2x2x4):\n",
      "[[[ 1  2  3  4]\n",
      "  [ 5  6  7  8]]\n",
      "\n",
      " [[ 9 10 11 12]\n",
      "  [13 14 15 16]]]\n",
      "Reshaped matrix (4x4):\n",
      "[ 1  2  3  4  5  6  7  8  9 10 11 12 13 14 15 16]\n"
     ]
    }
   ],
   "source": [
    "# Create an 8x2 matrix (2-D tensor).\n",
    "matrix = tf.constant(\n",
    "    [[1, 2], [3, 4], [5, 6], [7, 8], [9, 10], [11, 12], [13, 14], [15, 16]],\n",
    "    dtype=tf.int32)\n",
    "\n",
    "reshaped_2x2x4_tensor = tf.reshape(matrix, [2, 2, 4])\n",
    "one_dimensional_vector = tf.reshape(matrix, [16])\n",
    "\n",
    "print (\"Original matrix (8x2):\")\n",
    "print (matrix.eval())\n",
    "print (\"Reshaped matrix (2x2x4):\")\n",
    "print (reshaped_2x2x4_tensor.eval())\n",
    "print (\"Reshaped matrix (4x4):\")\n",
    "print (one_dimensional_vector.eval())"
   ]
  },
  {
   "cell_type": "markdown",
   "metadata": {},
   "source": [
    "Exercise #2: Reshape two tensors in order to multiply them.\n",
    "The following two vectors are incompatible for matrix multiplication:\n",
    "a = tf.constant([5, 3, 2, 7, 1, 4])\n",
    "b = tf.constant([4, 6, 3])\n",
    "Reshape these vectors into compatible operands for matrix multiplication. Then, invoke a matrix multiplication operation on the reshaped tensors."
   ]
  },
  {
   "cell_type": "code",
   "execution_count": 81,
   "metadata": {},
   "outputs": [
    {
     "name": "stdout",
     "output_type": "stream",
     "text": [
      "Tensor(\"Reshape_17:0\", shape=(2, 3), dtype=int32)\n",
      "[[5 3 2]\n",
      " [7 1 4]]\n",
      "Tensor(\"Reshape_18:0\", shape=(3, 1), dtype=int32)\n",
      "[[4]\n",
      " [6]\n",
      " [3]]\n"
     ]
    }
   ],
   "source": [
    "a = tf.constant([5, 3, 2, 7, 1, 4]) \n",
    "b = tf.constant([4, 6, 3])\n",
    "reshaped_a=tf.reshape(a,[2,3])\n",
    "reshaped_b=tf.reshape(b,[3,1])\n",
    "print(reshaped_a)\n",
    "print (reshaped_a.eval())\n",
    "print (reshaped_b)\n",
    "print (reshaped_b.eval())"
   ]
  },
  {
   "cell_type": "code",
   "execution_count": 77,
   "metadata": {},
   "outputs": [],
   "source": [
    "multiply_reshaped_ab=tf.matmul(reshaped_a,reshaped_b)"
   ]
  },
  {
   "cell_type": "code",
   "execution_count": 78,
   "metadata": {},
   "outputs": [
    {
     "name": "stdout",
     "output_type": "stream",
     "text": [
      "Tensor(\"MatMul_4:0\", shape=(2, 1), dtype=int32)\n"
     ]
    }
   ],
   "source": [
    "print(multiply_reshaped_ab)"
   ]
  },
  {
   "cell_type": "code",
   "execution_count": 82,
   "metadata": {},
   "outputs": [
    {
     "name": "stdout",
     "output_type": "stream",
     "text": [
      "[[44]\n",
      " [46]]\n"
     ]
    }
   ],
   "source": [
    "print(multiply_reshaped_ab.eval())"
   ]
  },
  {
   "cell_type": "markdown",
   "metadata": {},
   "source": [
    "Variables, Initialization and Assignment:\n",
    "So far, all the operations we performed were on static values (tf.constant); calling numpy() always returned the same result. TensorFlow allows you to define Variable objects, whose values can be changed.\n",
    "When creating a variable, you can set an initial value explicitly, or you can use an initializer (like a distribution):"
   ]
  },
  {
   "cell_type": "code",
   "execution_count": 105,
   "metadata": {},
   "outputs": [],
   "source": [
    "# Create a scalar variable with the initial value 3.\n",
    "\n",
    "# Create a vector variable of shape [1, 4], with random initial values,\n",
    "# sampled from a normal distribution with mean 1 and standard deviation 0.35.\n",
    "w =tf.get_variable(\"w\", dtype=tf.float32,\n",
    "  initializer=tf.random_normal([1, 4], mean=1.0, stddev=0.35))"
   ]
  },
  {
   "cell_type": "code",
   "execution_count": 107,
   "metadata": {},
   "outputs": [
    {
     "name": "stdout",
     "output_type": "stream",
     "text": [
      "[b'Variable' b'Variable_1' b'Variable_2' b'Variable_3' b'Variable_4'\n",
      " b'Variable_5' b'Variable_6' b'Variable_7' b'Variable_8' b'Variable_9'\n",
      " b'v' b'w']\n"
     ]
    }
   ],
   "source": [
    "print(sess.run(tf.report_uninitialized_variables()))"
   ]
  },
  {
   "cell_type": "code",
   "execution_count": 109,
   "metadata": {},
   "outputs": [],
   "source": [
    "sess.run(tf.global_variables_initializer())\n",
    "# Now all variables are initialized."
   ]
  },
  {
   "cell_type": "code",
   "execution_count": 110,
   "metadata": {},
   "outputs": [
    {
     "name": "stdout",
     "output_type": "stream",
     "text": [
      "[]\n"
     ]
    }
   ],
   "source": [
    "print(sess.run(tf.report_uninitialized_variables()))"
   ]
  },
  {
   "cell_type": "code",
   "execution_count": 111,
   "metadata": {},
   "outputs": [
    {
     "name": "stdout",
     "output_type": "stream",
     "text": [
      "[-0.09638667  0.9776943   0.4332099 ]\n"
     ]
    }
   ],
   "source": [
    "print(v.eval())"
   ]
  },
  {
   "cell_type": "code",
   "execution_count": 125,
   "metadata": {},
   "outputs": [
    {
     "name": "stdout",
     "output_type": "stream",
     "text": [
      "[[0.75196075 0.66704667 1.2290208  0.7418922 ]]\n",
      "<contextlib._GeneratorContextManager object at 0x11bd54b38>\n"
     ]
    }
   ],
   "source": [
    "print (w.eval())\n",
    "print(v)"
   ]
  },
  {
   "cell_type": "code",
   "execution_count": 127,
   "metadata": {},
   "outputs": [
    {
     "name": "stdout",
     "output_type": "stream",
     "text": [
      "[[0.75196075 0.66704667 1.2290208  0.7418922 ]]\n"
     ]
    }
   ],
   "source": [
    "print(w.eval())"
   ]
  },
  {
   "cell_type": "code",
   "execution_count": 130,
   "metadata": {},
   "outputs": [
    {
     "data": {
      "text/plain": [
       "<contextlib._GeneratorContextManager at 0x11bd53b00>"
      ]
     },
     "execution_count": 130,
     "metadata": {},
     "output_type": "execute_result"
    }
   ],
   "source": [
    "tf.variable_scope(\"v\", reuse=True)"
   ]
  },
  {
   "cell_type": "code",
   "execution_count": 138,
   "metadata": {},
   "outputs": [],
   "source": [
    "v1 =tf.get_variable(\"v1\", dtype=tf.int32,\n",
    "      initializer=([3]))"
   ]
  },
  {
   "cell_type": "code",
   "execution_count": 140,
   "metadata": {},
   "outputs": [
    {
     "name": "stdout",
     "output_type": "stream",
     "text": [
      "[b'v1']\n"
     ]
    }
   ],
   "source": [
    "print(sess.run(tf.report_uninitialized_variables()))"
   ]
  },
  {
   "cell_type": "code",
   "execution_count": 141,
   "metadata": {
    "collapsed": true
   },
   "outputs": [],
   "source": [
    "sess.run(tf.global_variables_initializer())\n",
    "# Now all variables are initialized."
   ]
  },
  {
   "cell_type": "code",
   "execution_count": 142,
   "metadata": {},
   "outputs": [
    {
     "name": "stdout",
     "output_type": "stream",
     "text": [
      "[]\n"
     ]
    }
   ],
   "source": [
    "print(sess.run(tf.report_uninitialized_variables()))"
   ]
  },
  {
   "cell_type": "code",
   "execution_count": 144,
   "metadata": {},
   "outputs": [
    {
     "name": "stdout",
     "output_type": "stream",
     "text": [
      "[3]\n"
     ]
    }
   ],
   "source": [
    "print (v1.eval())"
   ]
  },
  {
   "cell_type": "code",
   "execution_count": 153,
   "metadata": {},
   "outputs": [],
   "source": [
    "tf.assign(v1,[7])\n",
    "assignment=v1.assign([5])\n",
    "tf.global_variables_initializer().run()"
   ]
  },
  {
   "cell_type": "code",
   "execution_count": 156,
   "metadata": {},
   "outputs": [
    {
     "name": "stdout",
     "output_type": "stream",
     "text": [
      "[5]\n"
     ]
    }
   ],
   "source": [
    "assignment.eval()\n",
    "print(v1.eval())"
   ]
  },
  {
   "cell_type": "code",
   "execution_count": 157,
   "metadata": {
    "collapsed": true
   },
   "outputs": [],
   "source": [
    "assignment=v1.assign_add([7])"
   ]
  },
  {
   "cell_type": "code",
   "execution_count": 158,
   "metadata": {},
   "outputs": [
    {
     "name": "stdout",
     "output_type": "stream",
     "text": [
      "[12]\n"
     ]
    }
   ],
   "source": [
    "assignment.eval()\n",
    "print(v1.eval())"
   ]
  },
  {
   "cell_type": "markdown",
   "metadata": {},
   "source": [
    "Exercise #3: Simulate 10 rolls of two dice.\n",
    "Create a dice simulation, which generates a 10x3 2-D tensor in which:\n",
    "Columns 1 and 2 each hold one throw of one six-sided die (with values 1–6).\n",
    "Column 3 holds the sum of Columns 1 and 2 on the same row.\n",
    "For example, the first row might have the following values:\n",
    "Column 1 holds 4\n",
    "Column 2 holds 3\n",
    "Column 3 holds 7"
   ]
  },
  {
   "cell_type": "code",
   "execution_count": 160,
   "metadata": {},
   "outputs": [],
   "source": [
    "die1 =tf.get_variable(\"die1\",\n",
    "  initializer=tf.random_uniform(minval=1,shape=[10,1],maxval=7,dtype=tf.int32))\n",
    "die2 =tf.get_variable(\"die2\",\n",
    "  initializer=tf.random_uniform(minval=1,shape=[10,1],maxval=7,dtype=tf.int32))"
   ]
  },
  {
   "cell_type": "code",
   "execution_count": 161,
   "metadata": {},
   "outputs": [
    {
     "name": "stdout",
     "output_type": "stream",
     "text": [
      "[b'die1' b'die2']\n"
     ]
    }
   ],
   "source": [
    "print(sess.run(tf.report_uninitialized_variables()))"
   ]
  },
  {
   "cell_type": "code",
   "execution_count": 163,
   "metadata": {},
   "outputs": [],
   "source": [
    "die_sum=tf.add(die1,die2)"
   ]
  },
  {
   "cell_type": "code",
   "execution_count": 165,
   "metadata": {},
   "outputs": [],
   "source": [
    "result=tf.concat(values=[die1,die2,die_sum],axis=1)"
   ]
  },
  {
   "cell_type": "code",
   "execution_count": 166,
   "metadata": {
    "collapsed": true
   },
   "outputs": [],
   "source": [
    "tf.global_variables_initializer().run()"
   ]
  },
  {
   "cell_type": "code",
   "execution_count": 167,
   "metadata": {},
   "outputs": [
    {
     "name": "stdout",
     "output_type": "stream",
     "text": [
      "[]\n"
     ]
    }
   ],
   "source": [
    "print(sess.run(tf.report_uninitialized_variables()))"
   ]
  },
  {
   "cell_type": "code",
   "execution_count": 170,
   "metadata": {},
   "outputs": [
    {
     "name": "stdout",
     "output_type": "stream",
     "text": [
      "Resulting Matrix simulating 10 rolls of 2 dice of shape 10x3: \n",
      "[[ 1  3  4]\n",
      " [ 4  6 10]\n",
      " [ 1  1  2]\n",
      " [ 6  3  9]\n",
      " [ 2  5  7]\n",
      " [ 4  4  8]\n",
      " [ 4  3  7]\n",
      " [ 5  6 11]\n",
      " [ 2  2  4]\n",
      " [ 2  6  8]]\n"
     ]
    }
   ],
   "source": [
    "print(\"Resulting Matrix simulating 10 rolls of 2 dice of shape 10x3: \")\n",
    "print(result.eval())"
   ]
  },
  {
   "cell_type": "code",
   "execution_count": null,
   "metadata": {
    "collapsed": true
   },
   "outputs": [],
   "source": []
  }
 ],
 "metadata": {
  "kernelspec": {
   "display_name": "Python 3",
   "language": "python",
   "name": "python3"
  },
  "language_info": {
   "codemirror_mode": {
    "name": "ipython",
    "version": 3
   },
   "file_extension": ".py",
   "mimetype": "text/x-python",
   "name": "python",
   "nbconvert_exporter": "python",
   "pygments_lexer": "ipython3",
   "version": "3.5.2"
  }
 },
 "nbformat": 4,
 "nbformat_minor": 2
}
