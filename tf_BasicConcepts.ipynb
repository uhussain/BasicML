{
 "cells": [
  {
   "cell_type": "code",
   "execution_count": 18,
   "metadata": {},
   "outputs": [
    {
     "name": "stdout",
     "output_type": "stream",
     "text": [
      "17\n"
     ]
    }
   ],
   "source": [
    "import tensorflow as tf\n",
    "\n",
    "#Create a graph\n",
    "g=tf.Graph()\n",
    "\n",
    "#Establish the graph as the \"default\" graph\n",
    "\n",
    "with g.as_default():\n",
    "  # Assemble a graph consisting of the following three operations:\n",
    "  #   * Two tf.constant operations to create the operands.\n",
    "  #   * One tf.add operation to add the two operands.\n",
    "  x = tf.constant(8,name=\"x_const\")\n",
    "  y = tf.constant(5,name=\"y_const\")\n",
    "  first_sum = tf.add(x,y,name=\"xy_sum\")\n",
    "  z = tf.constant(4,name=\"z_const\")\n",
    "  first_sum = tf.add(first_sum,z,name=\"xyz_sum\")\n",
    "  # Now create a session.\n",
    "  # The session will run the default graph.\n",
    "    \n",
    "  with tf.Session() as sess:\n",
    "    print (first_sum.eval())"
   ]
  }
 ],
 "metadata": {
  "kernelspec": {
   "display_name": "Python 3",
   "language": "python",
   "name": "python3"
  },
  "language_info": {
   "codemirror_mode": {
    "name": "ipython",
    "version": 3
   },
   "file_extension": ".py",
   "mimetype": "text/x-python",
   "name": "python",
   "nbconvert_exporter": "python",
   "pygments_lexer": "ipython3",
   "version": "3.5.2"
  }
 },
 "nbformat": 4,
 "nbformat_minor": 2
}
